{
  "nbformat": 4,
  "nbformat_minor": 0,
  "metadata": {
    "colab": {
      "name": "Practica1_Ebola.ipynb",
      "provenance": [],
      "collapsed_sections": [],
      "toc_visible": true,
      "authorship_tag": "ABX9TyN+b/HXRM0BzA8K/IQZW5j+",
      "include_colab_link": true
    },
    "kernelspec": {
      "name": "python3",
      "display_name": "Python 3"
    }
  },
  "cells": [
    {
      "cell_type": "markdown",
      "metadata": {
        "id": "view-in-github",
        "colab_type": "text"
      },
      "source": [
        "<a href=\"https://colab.research.google.com/github/Trianna0512/Diplomado-mineria-datos-2/blob/master/Practica1_Ebola.ipynb\" target=\"_parent\"><img src=\"https://colab.research.google.com/assets/colab-badge.svg\" alt=\"Open In Colab\"/></a>"
      ]
    },
    {
      "cell_type": "code",
      "metadata": {
        "id": "nMnX_yDAEisK",
        "colab_type": "code",
        "colab": {}
      },
      "source": [
        "import pandas as pd\n",
        "import numpy as np\n",
        "import missingno as msno\n",
        "%matplotlib inline"
      ],
      "execution_count": 0,
      "outputs": []
    },
    {
      "cell_type": "code",
      "metadata": {
        "id": "Ua8WE199FgUv",
        "colab_type": "code",
        "outputId": "27202558-b08c-4aeb-9cec-9ca0b690159d",
        "colab": {
          "base_uri": "https://localhost:8080/",
          "height": 394
        }
      },
      "source": [
        "path = 'ebola_2014_2016_clean.csv'\n",
        "df = pd.read_csv(path, encoding='latin', error_bad_lines=False)\n",
        "df.head()"
      ],
      "execution_count": 0,
      "outputs": [
        {
          "output_type": "execute_result",
          "data": {
            "text/html": [
              "<div>\n",
              "<style scoped>\n",
              "    .dataframe tbody tr th:only-of-type {\n",
              "        vertical-align: middle;\n",
              "    }\n",
              "\n",
              "    .dataframe tbody tr th {\n",
              "        vertical-align: top;\n",
              "    }\n",
              "\n",
              "    .dataframe thead th {\n",
              "        text-align: right;\n",
              "    }\n",
              "</style>\n",
              "<table border=\"1\" class=\"dataframe\">\n",
              "  <thead>\n",
              "    <tr style=\"text-align: right;\">\n",
              "      <th></th>\n",
              "      <th>Country</th>\n",
              "      <th>Date</th>\n",
              "      <th>No. of suspected cases</th>\n",
              "      <th>No. of probable cases</th>\n",
              "      <th>No. of confirmed cases</th>\n",
              "      <th>No. of confirmed, probable and suspected cases</th>\n",
              "      <th>No. of suspected deaths</th>\n",
              "      <th>No. of probable deaths</th>\n",
              "      <th>No. of confirmed deaths</th>\n",
              "      <th>No. of confirmed, probable and suspected deaths</th>\n",
              "    </tr>\n",
              "  </thead>\n",
              "  <tbody>\n",
              "    <tr>\n",
              "      <th>0</th>\n",
              "      <td>Guinea</td>\n",
              "      <td>2014-08-29</td>\n",
              "      <td>25.0</td>\n",
              "      <td>141.0</td>\n",
              "      <td>482.0</td>\n",
              "      <td>648.0</td>\n",
              "      <td>2.0</td>\n",
              "      <td>141.0</td>\n",
              "      <td>287.0</td>\n",
              "      <td>430.0</td>\n",
              "    </tr>\n",
              "    <tr>\n",
              "      <th>1</th>\n",
              "      <td>Nigeria</td>\n",
              "      <td>2014-08-29</td>\n",
              "      <td>3.0</td>\n",
              "      <td>1.0</td>\n",
              "      <td>15.0</td>\n",
              "      <td>19.0</td>\n",
              "      <td>0.0</td>\n",
              "      <td>1.0</td>\n",
              "      <td>6.0</td>\n",
              "      <td>7.0</td>\n",
              "    </tr>\n",
              "    <tr>\n",
              "      <th>2</th>\n",
              "      <td>Sierra Leone</td>\n",
              "      <td>2014-08-29</td>\n",
              "      <td>54.0</td>\n",
              "      <td>37.0</td>\n",
              "      <td>935.0</td>\n",
              "      <td>1026.0</td>\n",
              "      <td>8.0</td>\n",
              "      <td>34.0</td>\n",
              "      <td>380.0</td>\n",
              "      <td>422.0</td>\n",
              "    </tr>\n",
              "    <tr>\n",
              "      <th>3</th>\n",
              "      <td>Liberia</td>\n",
              "      <td>2014-08-29</td>\n",
              "      <td>382.0</td>\n",
              "      <td>674.0</td>\n",
              "      <td>322.0</td>\n",
              "      <td>1378.0</td>\n",
              "      <td>168.0</td>\n",
              "      <td>301.0</td>\n",
              "      <td>225.0</td>\n",
              "      <td>694.0</td>\n",
              "    </tr>\n",
              "    <tr>\n",
              "      <th>4</th>\n",
              "      <td>Sierra Leone</td>\n",
              "      <td>2014-09-05</td>\n",
              "      <td>78.0</td>\n",
              "      <td>37.0</td>\n",
              "      <td>1146.0</td>\n",
              "      <td>1261.0</td>\n",
              "      <td>11.0</td>\n",
              "      <td>37.0</td>\n",
              "      <td>443.0</td>\n",
              "      <td>491.0</td>\n",
              "    </tr>\n",
              "  </tbody>\n",
              "</table>\n",
              "</div>"
            ],
            "text/plain": [
              "        Country  ... No. of confirmed, probable and suspected deaths\n",
              "0        Guinea  ...                                           430.0\n",
              "1       Nigeria  ...                                             7.0\n",
              "2  Sierra Leone  ...                                           422.0\n",
              "3       Liberia  ...                                           694.0\n",
              "4  Sierra Leone  ...                                           491.0\n",
              "\n",
              "[5 rows x 10 columns]"
            ]
          },
          "metadata": {
            "tags": []
          },
          "execution_count": 2
        }
      ]
    },
    {
      "cell_type": "code",
      "metadata": {
        "id": "khDsDCG6Fpam",
        "colab_type": "code",
        "outputId": "2e59fa43-b419-49b9-a532-675639fdd88a",
        "colab": {
          "base_uri": "https://localhost:8080/",
          "height": 272
        }
      },
      "source": [
        "df.info()"
      ],
      "execution_count": 0,
      "outputs": [
        {
          "output_type": "stream",
          "text": [
            "<class 'pandas.core.frame.DataFrame'>\n",
            "RangeIndex: 2485 entries, 0 to 2484\n",
            "Data columns (total 10 columns):\n",
            "Country                                            2485 non-null object\n",
            "Date                                               2485 non-null object\n",
            "No. of suspected cases                             2366 non-null float64\n",
            "No. of probable cases                              2436 non-null float64\n",
            "No. of confirmed cases                             2484 non-null float64\n",
            "No. of confirmed, probable and suspected cases     2477 non-null float64\n",
            "No. of suspected deaths                            1308 non-null float64\n",
            "No. of probable deaths                             1526 non-null float64\n",
            "No. of confirmed deaths                            1648 non-null float64\n",
            "No. of confirmed, probable and suspected deaths    2485 non-null float64\n",
            "dtypes: float64(8), object(2)\n",
            "memory usage: 194.3+ KB\n"
          ],
          "name": "stdout"
        }
      ]
    },
    {
      "cell_type": "code",
      "metadata": {
        "id": "xc1q4eeLGBHz",
        "colab_type": "code",
        "outputId": "a8fef5e8-e7e3-44b7-8138-4493643d6a53",
        "colab": {
          "base_uri": "https://localhost:8080/",
          "height": 34
        }
      },
      "source": [
        "df.shape"
      ],
      "execution_count": 0,
      "outputs": [
        {
          "output_type": "execute_result",
          "data": {
            "text/plain": [
              "(2485, 10)"
            ]
          },
          "metadata": {
            "tags": []
          },
          "execution_count": 4
        }
      ]
    },
    {
      "cell_type": "code",
      "metadata": {
        "id": "t_GJqcaTGEwG",
        "colab_type": "code",
        "outputId": "f0b71961-9ae5-471a-c0ca-cb968a216efc",
        "colab": {
          "base_uri": "https://localhost:8080/",
          "height": 34
        }
      },
      "source": [
        "df.shape[0]"
      ],
      "execution_count": 0,
      "outputs": [
        {
          "output_type": "execute_result",
          "data": {
            "text/plain": [
              "2485"
            ]
          },
          "metadata": {
            "tags": []
          },
          "execution_count": 5
        }
      ]
    },
    {
      "cell_type": "code",
      "metadata": {
        "id": "KLyBbSS0GHHL",
        "colab_type": "code",
        "outputId": "13543e9f-e1d4-44b0-9ede-231cff531831",
        "colab": {
          "base_uri": "https://localhost:8080/",
          "height": 34
        }
      },
      "source": [
        "df.shape[1]"
      ],
      "execution_count": 0,
      "outputs": [
        {
          "output_type": "execute_result",
          "data": {
            "text/plain": [
              "10"
            ]
          },
          "metadata": {
            "tags": []
          },
          "execution_count": 6
        }
      ]
    },
    {
      "cell_type": "code",
      "metadata": {
        "id": "VnBNvm0OGJPl",
        "colab_type": "code",
        "outputId": "5701bf93-6102-4c05-967a-780279ad2264",
        "colab": {
          "base_uri": "https://localhost:8080/",
          "height": 187
        }
      },
      "source": [
        "df.columns.values.tolist()"
      ],
      "execution_count": 0,
      "outputs": [
        {
          "output_type": "execute_result",
          "data": {
            "text/plain": [
              "['Country',\n",
              " 'Date',\n",
              " 'No. of suspected cases',\n",
              " 'No. of probable cases',\n",
              " 'No. of confirmed cases',\n",
              " 'No. of confirmed, probable and suspected cases',\n",
              " 'No. of suspected deaths',\n",
              " 'No. of probable deaths',\n",
              " 'No. of confirmed deaths',\n",
              " 'No. of confirmed, probable and suspected deaths']"
            ]
          },
          "metadata": {
            "tags": []
          },
          "execution_count": 7
        }
      ]
    },
    {
      "cell_type": "code",
      "metadata": {
        "id": "0Dteet2PGNzZ",
        "colab_type": "code",
        "outputId": "9d13e127-c0cb-4e56-8559-91d0978bcb38",
        "colab": {
          "base_uri": "https://localhost:8080/",
          "height": 204
        }
      },
      "source": [
        "\n",
        "df.dtypes"
      ],
      "execution_count": 0,
      "outputs": [
        {
          "output_type": "execute_result",
          "data": {
            "text/plain": [
              "Country                                             object\n",
              "Date                                                object\n",
              "No. of suspected cases                             float64\n",
              "No. of probable cases                              float64\n",
              "No. of confirmed cases                             float64\n",
              "No. of confirmed, probable and suspected cases     float64\n",
              "No. of suspected deaths                            float64\n",
              "No. of probable deaths                             float64\n",
              "No. of confirmed deaths                            float64\n",
              "No. of confirmed, probable and suspected deaths    float64\n",
              "dtype: object"
            ]
          },
          "metadata": {
            "tags": []
          },
          "execution_count": 8
        }
      ]
    },
    {
      "cell_type": "code",
      "metadata": {
        "id": "fbh3bR4xGRr-",
        "colab_type": "code",
        "outputId": "3967c5fa-0ade-4d83-feb7-301e825bd816",
        "colab": {
          "base_uri": "https://localhost:8080/",
          "height": 34
        }
      },
      "source": [
        "df.isnull().any().any()"
      ],
      "execution_count": 0,
      "outputs": [
        {
          "output_type": "execute_result",
          "data": {
            "text/plain": [
              "True"
            ]
          },
          "metadata": {
            "tags": []
          },
          "execution_count": 9
        }
      ]
    },
    {
      "cell_type": "code",
      "metadata": {
        "id": "6PbPfSYeGUeb",
        "colab_type": "code",
        "outputId": "d37115ab-3f67-4590-ef0b-b5b96a097463",
        "colab": {
          "base_uri": "https://localhost:8080/",
          "height": 922
        }
      },
      "source": [
        "msno.matrix(df)"
      ],
      "execution_count": 0,
      "outputs": [
        {
          "output_type": "execute_result",
          "data": {
            "text/plain": [
              "<matplotlib.axes._subplots.AxesSubplot at 0x7f01dd489550>"
            ]
          },
          "metadata": {
            "tags": []
          },
          "execution_count": 10
        },
        {
          "output_type": "display_data",
          "data": {
            "image/png": "[encoded data removed]",
            "text/plain": [
              "<Figure size 1800x720 with 2 Axes>"
            ]
          },
          "metadata": {
            "tags": []
          }
        }
      ]
    },
    {
      "cell_type": "code",
      "metadata": {
        "id": "VPQyGB-2Gfg0",
        "colab_type": "code",
        "colab": {}
      },
      "source": [
        "df.replace({' ': np.nan}, inplace=True)"
      ],
      "execution_count": 0,
      "outputs": []
    },
    {
      "cell_type": "code",
      "metadata": {
        "id": "2GDBivj-GiAB",
        "colab_type": "code",
        "outputId": "00861c90-5a05-477a-fbdf-781a7a923aef",
        "colab": {
          "base_uri": "https://localhost:8080/",
          "height": 34
        }
      },
      "source": [
        "df.isnull().any().any()"
      ],
      "execution_count": 0,
      "outputs": [
        {
          "output_type": "execute_result",
          "data": {
            "text/plain": [
              "True"
            ]
          },
          "metadata": {
            "tags": []
          },
          "execution_count": 12
        }
      ]
    },
    {
      "cell_type": "code",
      "metadata": {
        "id": "1LIeAQ5vGkOG",
        "colab_type": "code",
        "outputId": "11dff694-71b4-40cb-b71c-7f3a8dec5dbe",
        "colab": {
          "base_uri": "https://localhost:8080/",
          "height": 922
        }
      },
      "source": [
        "msno.matrix(df)"
      ],
      "execution_count": 0,
      "outputs": [
        {
          "output_type": "execute_result",
          "data": {
            "text/plain": [
              "<matplotlib.axes._subplots.AxesSubplot at 0x7f01da77d080>"
            ]
          },
          "metadata": {
            "tags": []
          },
          "execution_count": 13
        },
        {
          "output_type": "display_data",
          "data": {
            "image/png": "[encoded data removed]",
            "text/plain": [
              "<Figure size 1800x720 with 2 Axes>"
            ]
          },
          "metadata": {
            "tags": []
          }
        }
      ]
    },
    {
      "cell_type": "code",
      "metadata": {
        "id": "QT_NkDkaGonv",
        "colab_type": "code",
        "outputId": "207e8f94-fd25-43a7-852d-5a75202eb03d",
        "colab": {
          "base_uri": "https://localhost:8080/",
          "height": 957
        }
      },
      "source": [
        "msno.bar(df)"
      ],
      "execution_count": 0,
      "outputs": [
        {
          "output_type": "execute_result",
          "data": {
            "text/plain": [
              "<matplotlib.axes._subplots.AxesSubplot at 0x7f01d8ed8978>"
            ]
          },
          "metadata": {
            "tags": []
          },
          "execution_count": 14
        },
        {
          "output_type": "display_data",
          "data": {
            "image/png": "[encoded data removed]",
            "text/plain": [
              "<Figure size 1728x720 with 3 Axes>"
            ]
          },
          "metadata": {
            "tags": []
          }
        }
      ]
    },
    {
      "cell_type": "code",
      "metadata": {
        "id": "SZrwIS48Gssu",
        "colab_type": "code",
        "outputId": "512785d7-f964-4a14-ce6c-514642982f8d",
        "colab": {
          "base_uri": "https://localhost:8080/",
          "height": 136
        }
      },
      "source": [
        "df.columns[df.isnull().any()].tolist()"
      ],
      "execution_count": 0,
      "outputs": [
        {
          "output_type": "execute_result",
          "data": {
            "text/plain": [
              "['No. of suspected cases',\n",
              " 'No. of probable cases',\n",
              " 'No. of confirmed cases',\n",
              " 'No. of confirmed, probable and suspected cases',\n",
              " 'No. of suspected deaths',\n",
              " 'No. of probable deaths',\n",
              " 'No. of confirmed deaths']"
            ]
          },
          "metadata": {
            "tags": []
          },
          "execution_count": 15
        }
      ]
    },
    {
      "cell_type": "code",
      "metadata": {
        "id": "w8tP_xWZGyJb",
        "colab_type": "code",
        "outputId": "7522a8ca-3f38-4683-85dd-0763b7583935",
        "colab": {
          "base_uri": "https://localhost:8080/",
          "height": 402
        }
      },
      "source": [
        "df.describe()"
      ],
      "execution_count": 0,
      "outputs": [
        {
          "output_type": "execute_result",
          "data": {
            "text/html": [
              "<div>\n",
              "<style scoped>\n",
              "    .dataframe tbody tr th:only-of-type {\n",
              "        vertical-align: middle;\n",
              "    }\n",
              "\n",
              "    .dataframe tbody tr th {\n",
              "        vertical-align: top;\n",
              "    }\n",
              "\n",
              "    .dataframe thead th {\n",
              "        text-align: right;\n",
              "    }\n",
              "</style>\n",
              "<table border=\"1\" class=\"dataframe\">\n",
              "  <thead>\n",
              "    <tr style=\"text-align: right;\">\n",
              "      <th></th>\n",
              "      <th>No. of suspected cases</th>\n",
              "      <th>No. of probable cases</th>\n",
              "      <th>No. of confirmed cases</th>\n",
              "      <th>No. of confirmed, probable and suspected cases</th>\n",
              "      <th>No. of suspected deaths</th>\n",
              "      <th>No. of probable deaths</th>\n",
              "      <th>No. of confirmed deaths</th>\n",
              "      <th>No. of confirmed, probable and suspected deaths</th>\n",
              "    </tr>\n",
              "  </thead>\n",
              "  <tbody>\n",
              "    <tr>\n",
              "      <th>count</th>\n",
              "      <td>2366.000000</td>\n",
              "      <td>2436.000000</td>\n",
              "      <td>2484.000000</td>\n",
              "      <td>2477.000000</td>\n",
              "      <td>1308.000000</td>\n",
              "      <td>1526.000000</td>\n",
              "      <td>1648.000000</td>\n",
              "      <td>2485.000000</td>\n",
              "    </tr>\n",
              "    <tr>\n",
              "      <th>mean</th>\n",
              "      <td>891.841505</td>\n",
              "      <td>263.733580</td>\n",
              "      <td>1436.616345</td>\n",
              "      <td>2553.678644</td>\n",
              "      <td>32.899083</td>\n",
              "      <td>104.535387</td>\n",
              "      <td>781.662015</td>\n",
              "      <td>1028.347686</td>\n",
              "    </tr>\n",
              "    <tr>\n",
              "      <th>std</th>\n",
              "      <td>1828.699240</td>\n",
              "      <td>561.483886</td>\n",
              "      <td>2574.200797</td>\n",
              "      <td>4427.118148</td>\n",
              "      <td>73.166362</td>\n",
              "      <td>161.420208</td>\n",
              "      <td>1258.113098</td>\n",
              "      <td>1656.064372</td>\n",
              "    </tr>\n",
              "    <tr>\n",
              "      <th>min</th>\n",
              "      <td>0.000000</td>\n",
              "      <td>0.000000</td>\n",
              "      <td>1.000000</td>\n",
              "      <td>0.000000</td>\n",
              "      <td>0.000000</td>\n",
              "      <td>0.000000</td>\n",
              "      <td>0.000000</td>\n",
              "      <td>0.000000</td>\n",
              "    </tr>\n",
              "    <tr>\n",
              "      <th>25%</th>\n",
              "      <td>0.000000</td>\n",
              "      <td>0.000000</td>\n",
              "      <td>1.000000</td>\n",
              "      <td>1.000000</td>\n",
              "      <td>0.000000</td>\n",
              "      <td>0.000000</td>\n",
              "      <td>0.000000</td>\n",
              "      <td>0.000000</td>\n",
              "    </tr>\n",
              "    <tr>\n",
              "      <th>50%</th>\n",
              "      <td>0.000000</td>\n",
              "      <td>1.000000</td>\n",
              "      <td>7.000000</td>\n",
              "      <td>8.000000</td>\n",
              "      <td>0.000000</td>\n",
              "      <td>1.000000</td>\n",
              "      <td>2.000000</td>\n",
              "      <td>6.000000</td>\n",
              "    </tr>\n",
              "    <tr>\n",
              "      <th>75%</th>\n",
              "      <td>17.000000</td>\n",
              "      <td>287.000000</td>\n",
              "      <td>3118.000000</td>\n",
              "      <td>3657.000000</td>\n",
              "      <td>0.000000</td>\n",
              "      <td>208.000000</td>\n",
              "      <td>1760.750000</td>\n",
              "      <td>2386.000000</td>\n",
              "    </tr>\n",
              "    <tr>\n",
              "      <th>max</th>\n",
              "      <td>5636.000000</td>\n",
              "      <td>2106.000000</td>\n",
              "      <td>8704.000000</td>\n",
              "      <td>14122.000000</td>\n",
              "      <td>661.000000</td>\n",
              "      <td>803.000000</td>\n",
              "      <td>3858.000000</td>\n",
              "      <td>4806.000000</td>\n",
              "    </tr>\n",
              "  </tbody>\n",
              "</table>\n",
              "</div>"
            ],
            "text/plain": [
              "       No. of suspected cases  ...  No. of confirmed, probable and suspected deaths\n",
              "count             2366.000000  ...                                      2485.000000\n",
              "mean               891.841505  ...                                      1028.347686\n",
              "std               1828.699240  ...                                      1656.064372\n",
              "min                  0.000000  ...                                         0.000000\n",
              "25%                  0.000000  ...                                         0.000000\n",
              "50%                  0.000000  ...                                         6.000000\n",
              "75%                 17.000000  ...                                      2386.000000\n",
              "max               5636.000000  ...                                      4806.000000\n",
              "\n",
              "[8 rows x 8 columns]"
            ]
          },
          "metadata": {
            "tags": []
          },
          "execution_count": 16
        }
      ]
    },
    {
      "cell_type": "code",
      "metadata": {
        "id": "VUyZyBwLHIpz",
        "colab_type": "code",
        "outputId": "6247b33e-55f4-4d3f-a22f-e4b60290702a",
        "colab": {
          "base_uri": "https://localhost:8080/",
          "height": 202
        }
      },
      "source": [
        "df.loc[[0]]"
      ],
      "execution_count": 0,
      "outputs": [
        {
          "output_type": "execute_result",
          "data": {
            "text/html": [
              "<div>\n",
              "<style scoped>\n",
              "    .dataframe tbody tr th:only-of-type {\n",
              "        vertical-align: middle;\n",
              "    }\n",
              "\n",
              "    .dataframe tbody tr th {\n",
              "        vertical-align: top;\n",
              "    }\n",
              "\n",
              "    .dataframe thead th {\n",
              "        text-align: right;\n",
              "    }\n",
              "</style>\n",
              "<table border=\"1\" class=\"dataframe\">\n",
              "  <thead>\n",
              "    <tr style=\"text-align: right;\">\n",
              "      <th></th>\n",
              "      <th>Country</th>\n",
              "      <th>Date</th>\n",
              "      <th>No. of suspected cases</th>\n",
              "      <th>No. of probable cases</th>\n",
              "      <th>No. of confirmed cases</th>\n",
              "      <th>No. of confirmed, probable and suspected cases</th>\n",
              "      <th>No. of suspected deaths</th>\n",
              "      <th>No. of probable deaths</th>\n",
              "      <th>No. of confirmed deaths</th>\n",
              "      <th>No. of confirmed, probable and suspected deaths</th>\n",
              "    </tr>\n",
              "  </thead>\n",
              "  <tbody>\n",
              "    <tr>\n",
              "      <th>0</th>\n",
              "      <td>Guinea</td>\n",
              "      <td>2014-08-29</td>\n",
              "      <td>25.0</td>\n",
              "      <td>141.0</td>\n",
              "      <td>482.0</td>\n",
              "      <td>648.0</td>\n",
              "      <td>2.0</td>\n",
              "      <td>141.0</td>\n",
              "      <td>287.0</td>\n",
              "      <td>430.0</td>\n",
              "    </tr>\n",
              "  </tbody>\n",
              "</table>\n",
              "</div>"
            ],
            "text/plain": [
              "  Country  ... No. of confirmed, probable and suspected deaths\n",
              "0  Guinea  ...                                           430.0\n",
              "\n",
              "[1 rows x 10 columns]"
            ]
          },
          "metadata": {
            "tags": []
          },
          "execution_count": 17
        }
      ]
    },
    {
      "cell_type": "code",
      "metadata": {
        "id": "KDAj_UlMHMpa",
        "colab_type": "code",
        "outputId": "8ced7a33-9d47-409d-a242-95f3d1d00775",
        "colab": {
          "base_uri": "https://localhost:8080/",
          "height": 346
        }
      },
      "source": [
        "df.loc[30:33]"
      ],
      "execution_count": 0,
      "outputs": [
        {
          "output_type": "execute_result",
          "data": {
            "text/html": [
              "<div>\n",
              "<style scoped>\n",
              "    .dataframe tbody tr th:only-of-type {\n",
              "        vertical-align: middle;\n",
              "    }\n",
              "\n",
              "    .dataframe tbody tr th {\n",
              "        vertical-align: top;\n",
              "    }\n",
              "\n",
              "    .dataframe thead th {\n",
              "        text-align: right;\n",
              "    }\n",
              "</style>\n",
              "<table border=\"1\" class=\"dataframe\">\n",
              "  <thead>\n",
              "    <tr style=\"text-align: right;\">\n",
              "      <th></th>\n",
              "      <th>Country</th>\n",
              "      <th>Date</th>\n",
              "      <th>No. of suspected cases</th>\n",
              "      <th>No. of probable cases</th>\n",
              "      <th>No. of confirmed cases</th>\n",
              "      <th>No. of confirmed, probable and suspected cases</th>\n",
              "      <th>No. of suspected deaths</th>\n",
              "      <th>No. of probable deaths</th>\n",
              "      <th>No. of confirmed deaths</th>\n",
              "      <th>No. of confirmed, probable and suspected deaths</th>\n",
              "    </tr>\n",
              "  </thead>\n",
              "  <tbody>\n",
              "    <tr>\n",
              "      <th>30</th>\n",
              "      <td>Sierra Leone</td>\n",
              "      <td>2014-09-22</td>\n",
              "      <td>136.0</td>\n",
              "      <td>37.0</td>\n",
              "      <td>1640.0</td>\n",
              "      <td>1813.0</td>\n",
              "      <td>11.0</td>\n",
              "      <td>37.0</td>\n",
              "      <td>545.0</td>\n",
              "      <td>593.0</td>\n",
              "    </tr>\n",
              "    <tr>\n",
              "      <th>31</th>\n",
              "      <td>Liberia</td>\n",
              "      <td>2014-09-22</td>\n",
              "      <td>817.0</td>\n",
              "      <td>1342.0</td>\n",
              "      <td>863.0</td>\n",
              "      <td>3022.0</td>\n",
              "      <td>364.0</td>\n",
              "      <td>544.0</td>\n",
              "      <td>670.0</td>\n",
              "      <td>1578.0</td>\n",
              "    </tr>\n",
              "    <tr>\n",
              "      <th>32</th>\n",
              "      <td>Senegal</td>\n",
              "      <td>2014-09-22</td>\n",
              "      <td>0.0</td>\n",
              "      <td>0.0</td>\n",
              "      <td>1.0</td>\n",
              "      <td>1.0</td>\n",
              "      <td>0.0</td>\n",
              "      <td>0.0</td>\n",
              "      <td>0.0</td>\n",
              "      <td>0.0</td>\n",
              "    </tr>\n",
              "    <tr>\n",
              "      <th>33</th>\n",
              "      <td>Guinea</td>\n",
              "      <td>2014-09-22</td>\n",
              "      <td>28.0</td>\n",
              "      <td>162.0</td>\n",
              "      <td>818.0</td>\n",
              "      <td>1008.0</td>\n",
              "      <td>5.0</td>\n",
              "      <td>162.0</td>\n",
              "      <td>465.0</td>\n",
              "      <td>632.0</td>\n",
              "    </tr>\n",
              "  </tbody>\n",
              "</table>\n",
              "</div>"
            ],
            "text/plain": [
              "         Country  ... No. of confirmed, probable and suspected deaths\n",
              "30  Sierra Leone  ...                                           593.0\n",
              "31       Liberia  ...                                          1578.0\n",
              "32       Senegal  ...                                             0.0\n",
              "33        Guinea  ...                                           632.0\n",
              "\n",
              "[4 rows x 10 columns]"
            ]
          },
          "metadata": {
            "tags": []
          },
          "execution_count": 18
        }
      ]
    },
    {
      "cell_type": "code",
      "metadata": {
        "id": "JSLpfFI8HPjK",
        "colab_type": "code",
        "outputId": "3423df2f-5f54-4d62-eb2b-88571c16de13",
        "colab": {
          "base_uri": "https://localhost:8080/",
          "height": 394
        }
      },
      "source": [
        "df.drop([0,24,51], axis=0).head()"
      ],
      "execution_count": 0,
      "outputs": [
        {
          "output_type": "execute_result",
          "data": {
            "text/html": [
              "<div>\n",
              "<style scoped>\n",
              "    .dataframe tbody tr th:only-of-type {\n",
              "        vertical-align: middle;\n",
              "    }\n",
              "\n",
              "    .dataframe tbody tr th {\n",
              "        vertical-align: top;\n",
              "    }\n",
              "\n",
              "    .dataframe thead th {\n",
              "        text-align: right;\n",
              "    }\n",
              "</style>\n",
              "<table border=\"1\" class=\"dataframe\">\n",
              "  <thead>\n",
              "    <tr style=\"text-align: right;\">\n",
              "      <th></th>\n",
              "      <th>Country</th>\n",
              "      <th>Date</th>\n",
              "      <th>No. of suspected cases</th>\n",
              "      <th>No. of probable cases</th>\n",
              "      <th>No. of confirmed cases</th>\n",
              "      <th>No. of confirmed, probable and suspected cases</th>\n",
              "      <th>No. of suspected deaths</th>\n",
              "      <th>No. of probable deaths</th>\n",
              "      <th>No. of confirmed deaths</th>\n",
              "      <th>No. of confirmed, probable and suspected deaths</th>\n",
              "    </tr>\n",
              "  </thead>\n",
              "  <tbody>\n",
              "    <tr>\n",
              "      <th>1</th>\n",
              "      <td>Nigeria</td>\n",
              "      <td>2014-08-29</td>\n",
              "      <td>3.0</td>\n",
              "      <td>1.0</td>\n",
              "      <td>15.0</td>\n",
              "      <td>19.0</td>\n",
              "      <td>0.0</td>\n",
              "      <td>1.0</td>\n",
              "      <td>6.0</td>\n",
              "      <td>7.0</td>\n",
              "    </tr>\n",
              "    <tr>\n",
              "      <th>2</th>\n",
              "      <td>Sierra Leone</td>\n",
              "      <td>2014-08-29</td>\n",
              "      <td>54.0</td>\n",
              "      <td>37.0</td>\n",
              "      <td>935.0</td>\n",
              "      <td>1026.0</td>\n",
              "      <td>8.0</td>\n",
              "      <td>34.0</td>\n",
              "      <td>380.0</td>\n",
              "      <td>422.0</td>\n",
              "    </tr>\n",
              "    <tr>\n",
              "      <th>3</th>\n",
              "      <td>Liberia</td>\n",
              "      <td>2014-08-29</td>\n",
              "      <td>382.0</td>\n",
              "      <td>674.0</td>\n",
              "      <td>322.0</td>\n",
              "      <td>1378.0</td>\n",
              "      <td>168.0</td>\n",
              "      <td>301.0</td>\n",
              "      <td>225.0</td>\n",
              "      <td>694.0</td>\n",
              "    </tr>\n",
              "    <tr>\n",
              "      <th>4</th>\n",
              "      <td>Sierra Leone</td>\n",
              "      <td>2014-09-05</td>\n",
              "      <td>78.0</td>\n",
              "      <td>37.0</td>\n",
              "      <td>1146.0</td>\n",
              "      <td>1261.0</td>\n",
              "      <td>11.0</td>\n",
              "      <td>37.0</td>\n",
              "      <td>443.0</td>\n",
              "      <td>491.0</td>\n",
              "    </tr>\n",
              "    <tr>\n",
              "      <th>5</th>\n",
              "      <td>Nigeria</td>\n",
              "      <td>2014-09-05</td>\n",
              "      <td>3.0</td>\n",
              "      <td>1.0</td>\n",
              "      <td>18.0</td>\n",
              "      <td>22.0</td>\n",
              "      <td>0.0</td>\n",
              "      <td>1.0</td>\n",
              "      <td>7.0</td>\n",
              "      <td>8.0</td>\n",
              "    </tr>\n",
              "  </tbody>\n",
              "</table>\n",
              "</div>"
            ],
            "text/plain": [
              "        Country  ... No. of confirmed, probable and suspected deaths\n",
              "1       Nigeria  ...                                             7.0\n",
              "2  Sierra Leone  ...                                           422.0\n",
              "3       Liberia  ...                                           694.0\n",
              "4  Sierra Leone  ...                                           491.0\n",
              "5       Nigeria  ...                                             8.0\n",
              "\n",
              "[5 rows x 10 columns]"
            ]
          },
          "metadata": {
            "tags": []
          },
          "execution_count": 19
        }
      ]
    },
    {
      "cell_type": "code",
      "metadata": {
        "id": "RFL4HVxNHS9d",
        "colab_type": "code",
        "outputId": "edcc094c-6357-4242-81be-defcdab5dd08",
        "colab": {
          "base_uri": "https://localhost:8080/",
          "height": 634
        }
      },
      "source": [
        "df.drop(df.index[1:5], axis=0).head(10)"
      ],
      "execution_count": 0,
      "outputs": [
        {
          "output_type": "execute_result",
          "data": {
            "text/html": [
              "<div>\n",
              "<style scoped>\n",
              "    .dataframe tbody tr th:only-of-type {\n",
              "        vertical-align: middle;\n",
              "    }\n",
              "\n",
              "    .dataframe tbody tr th {\n",
              "        vertical-align: top;\n",
              "    }\n",
              "\n",
              "    .dataframe thead th {\n",
              "        text-align: right;\n",
              "    }\n",
              "</style>\n",
              "<table border=\"1\" class=\"dataframe\">\n",
              "  <thead>\n",
              "    <tr style=\"text-align: right;\">\n",
              "      <th></th>\n",
              "      <th>Country</th>\n",
              "      <th>Date</th>\n",
              "      <th>No. of suspected cases</th>\n",
              "      <th>No. of probable cases</th>\n",
              "      <th>No. of confirmed cases</th>\n",
              "      <th>No. of confirmed, probable and suspected cases</th>\n",
              "      <th>No. of suspected deaths</th>\n",
              "      <th>No. of probable deaths</th>\n",
              "      <th>No. of confirmed deaths</th>\n",
              "      <th>No. of confirmed, probable and suspected deaths</th>\n",
              "    </tr>\n",
              "  </thead>\n",
              "  <tbody>\n",
              "    <tr>\n",
              "      <th>0</th>\n",
              "      <td>Guinea</td>\n",
              "      <td>2014-08-29</td>\n",
              "      <td>25.0</td>\n",
              "      <td>141.0</td>\n",
              "      <td>482.0</td>\n",
              "      <td>648.0</td>\n",
              "      <td>2.0</td>\n",
              "      <td>141.0</td>\n",
              "      <td>287.0</td>\n",
              "      <td>430.0</td>\n",
              "    </tr>\n",
              "    <tr>\n",
              "      <th>5</th>\n",
              "      <td>Nigeria</td>\n",
              "      <td>2014-09-05</td>\n",
              "      <td>3.0</td>\n",
              "      <td>1.0</td>\n",
              "      <td>18.0</td>\n",
              "      <td>22.0</td>\n",
              "      <td>0.0</td>\n",
              "      <td>1.0</td>\n",
              "      <td>7.0</td>\n",
              "      <td>8.0</td>\n",
              "    </tr>\n",
              "    <tr>\n",
              "      <th>6</th>\n",
              "      <td>Liberia</td>\n",
              "      <td>2014-09-05</td>\n",
              "      <td>369.0</td>\n",
              "      <td>888.0</td>\n",
              "      <td>614.0</td>\n",
              "      <td>1871.0</td>\n",
              "      <td>257.0</td>\n",
              "      <td>401.0</td>\n",
              "      <td>431.0</td>\n",
              "      <td>1089.0</td>\n",
              "    </tr>\n",
              "    <tr>\n",
              "      <th>7</th>\n",
              "      <td>Guinea</td>\n",
              "      <td>2014-09-05</td>\n",
              "      <td>56.0</td>\n",
              "      <td>152.0</td>\n",
              "      <td>604.0</td>\n",
              "      <td>812.0</td>\n",
              "      <td>3.0</td>\n",
              "      <td>152.0</td>\n",
              "      <td>362.0</td>\n",
              "      <td>517.0</td>\n",
              "    </tr>\n",
              "    <tr>\n",
              "      <th>8</th>\n",
              "      <td>Senegal</td>\n",
              "      <td>2014-09-05</td>\n",
              "      <td>NaN</td>\n",
              "      <td>NaN</td>\n",
              "      <td>1.0</td>\n",
              "      <td>1.0</td>\n",
              "      <td>NaN</td>\n",
              "      <td>NaN</td>\n",
              "      <td>0.0</td>\n",
              "      <td>0.0</td>\n",
              "    </tr>\n",
              "    <tr>\n",
              "      <th>9</th>\n",
              "      <td>Senegal</td>\n",
              "      <td>2014-09-08</td>\n",
              "      <td>2.0</td>\n",
              "      <td>0.0</td>\n",
              "      <td>1.0</td>\n",
              "      <td>3.0</td>\n",
              "      <td>0.0</td>\n",
              "      <td>0.0</td>\n",
              "      <td>0.0</td>\n",
              "      <td>0.0</td>\n",
              "    </tr>\n",
              "    <tr>\n",
              "      <th>10</th>\n",
              "      <td>Guinea</td>\n",
              "      <td>2014-09-08</td>\n",
              "      <td>47.0</td>\n",
              "      <td>151.0</td>\n",
              "      <td>664.0</td>\n",
              "      <td>862.0</td>\n",
              "      <td>4.0</td>\n",
              "      <td>151.0</td>\n",
              "      <td>400.0</td>\n",
              "      <td>555.0</td>\n",
              "    </tr>\n",
              "    <tr>\n",
              "      <th>11</th>\n",
              "      <td>Sierra Leone</td>\n",
              "      <td>2014-09-08</td>\n",
              "      <td>90.0</td>\n",
              "      <td>37.0</td>\n",
              "      <td>1234.0</td>\n",
              "      <td>1361.0</td>\n",
              "      <td>11.0</td>\n",
              "      <td>37.0</td>\n",
              "      <td>461.0</td>\n",
              "      <td>509.0</td>\n",
              "    </tr>\n",
              "    <tr>\n",
              "      <th>12</th>\n",
              "      <td>Liberia</td>\n",
              "      <td>2014-09-08</td>\n",
              "      <td>443.0</td>\n",
              "      <td>969.0</td>\n",
              "      <td>634.0</td>\n",
              "      <td>2046.0</td>\n",
              "      <td>296.0</td>\n",
              "      <td>420.0</td>\n",
              "      <td>508.0</td>\n",
              "      <td>1224.0</td>\n",
              "    </tr>\n",
              "    <tr>\n",
              "      <th>13</th>\n",
              "      <td>Nigeria</td>\n",
              "      <td>2014-09-08</td>\n",
              "      <td>1.0</td>\n",
              "      <td>1.0</td>\n",
              "      <td>19.0</td>\n",
              "      <td>21.0</td>\n",
              "      <td>0.0</td>\n",
              "      <td>1.0</td>\n",
              "      <td>7.0</td>\n",
              "      <td>8.0</td>\n",
              "    </tr>\n",
              "  </tbody>\n",
              "</table>\n",
              "</div>"
            ],
            "text/plain": [
              "         Country  ... No. of confirmed, probable and suspected deaths\n",
              "0         Guinea  ...                                           430.0\n",
              "5        Nigeria  ...                                             8.0\n",
              "6        Liberia  ...                                          1089.0\n",
              "7         Guinea  ...                                           517.0\n",
              "8        Senegal  ...                                             0.0\n",
              "9        Senegal  ...                                             0.0\n",
              "10        Guinea  ...                                           555.0\n",
              "11  Sierra Leone  ...                                           509.0\n",
              "12       Liberia  ...                                          1224.0\n",
              "13       Nigeria  ...                                             8.0\n",
              "\n",
              "[10 rows x 10 columns]"
            ]
          },
          "metadata": {
            "tags": []
          },
          "execution_count": 20
        }
      ]
    },
    {
      "cell_type": "code",
      "metadata": {
        "id": "9yFGPi-FHW9M",
        "colab_type": "code",
        "outputId": "5871555a-6402-4840-fe61-8eabb86b0d76",
        "colab": {
          "base_uri": "https://localhost:8080/",
          "height": 428
        }
      },
      "source": [
        "\n",
        "df[100:].head() #df.tail(-100) )"
      ],
      "execution_count": 0,
      "outputs": [
        {
          "output_type": "execute_result",
          "data": {
            "text/html": [
              "<div>\n",
              "<style scoped>\n",
              "    .dataframe tbody tr th:only-of-type {\n",
              "        vertical-align: middle;\n",
              "    }\n",
              "\n",
              "    .dataframe tbody tr th {\n",
              "        vertical-align: top;\n",
              "    }\n",
              "\n",
              "    .dataframe thead th {\n",
              "        text-align: right;\n",
              "    }\n",
              "</style>\n",
              "<table border=\"1\" class=\"dataframe\">\n",
              "  <thead>\n",
              "    <tr style=\"text-align: right;\">\n",
              "      <th></th>\n",
              "      <th>Country</th>\n",
              "      <th>Date</th>\n",
              "      <th>No. of suspected cases</th>\n",
              "      <th>No. of probable cases</th>\n",
              "      <th>No. of confirmed cases</th>\n",
              "      <th>No. of confirmed, probable and suspected cases</th>\n",
              "      <th>No. of suspected deaths</th>\n",
              "      <th>No. of probable deaths</th>\n",
              "      <th>No. of confirmed deaths</th>\n",
              "      <th>No. of confirmed, probable and suspected deaths</th>\n",
              "    </tr>\n",
              "  </thead>\n",
              "  <tbody>\n",
              "    <tr>\n",
              "      <th>100</th>\n",
              "      <td>Senegal</td>\n",
              "      <td>2014-10-29</td>\n",
              "      <td>0.0</td>\n",
              "      <td>0.0</td>\n",
              "      <td>1.0</td>\n",
              "      <td>1.0</td>\n",
              "      <td>0.0</td>\n",
              "      <td>0.0</td>\n",
              "      <td>0.0</td>\n",
              "      <td>0.0</td>\n",
              "    </tr>\n",
              "    <tr>\n",
              "      <th>101</th>\n",
              "      <td>Spain</td>\n",
              "      <td>2014-10-29</td>\n",
              "      <td>0.0</td>\n",
              "      <td>0.0</td>\n",
              "      <td>1.0</td>\n",
              "      <td>1.0</td>\n",
              "      <td>0.0</td>\n",
              "      <td>0.0</td>\n",
              "      <td>0.0</td>\n",
              "      <td>0.0</td>\n",
              "    </tr>\n",
              "    <tr>\n",
              "      <th>102</th>\n",
              "      <td>Guinea</td>\n",
              "      <td>2014-10-29</td>\n",
              "      <td>316.0</td>\n",
              "      <td>199.0</td>\n",
              "      <td>1391.0</td>\n",
              "      <td>1906.0</td>\n",
              "      <td>NaN</td>\n",
              "      <td>NaN</td>\n",
              "      <td>NaN</td>\n",
              "      <td>997.0</td>\n",
              "    </tr>\n",
              "    <tr>\n",
              "      <th>103</th>\n",
              "      <td>United States of America</td>\n",
              "      <td>2014-10-29</td>\n",
              "      <td>0.0</td>\n",
              "      <td>0.0</td>\n",
              "      <td>4.0</td>\n",
              "      <td>4.0</td>\n",
              "      <td>0.0</td>\n",
              "      <td>0.0</td>\n",
              "      <td>1.0</td>\n",
              "      <td>1.0</td>\n",
              "    </tr>\n",
              "    <tr>\n",
              "      <th>104</th>\n",
              "      <td>Sierra Leone</td>\n",
              "      <td>2014-10-29</td>\n",
              "      <td>1213.0</td>\n",
              "      <td>322.0</td>\n",
              "      <td>3700.0</td>\n",
              "      <td>5235.0</td>\n",
              "      <td>NaN</td>\n",
              "      <td>NaN</td>\n",
              "      <td>NaN</td>\n",
              "      <td>1500.0</td>\n",
              "    </tr>\n",
              "  </tbody>\n",
              "</table>\n",
              "</div>"
            ],
            "text/plain": [
              "                      Country  ... No. of confirmed, probable and suspected deaths\n",
              "100                   Senegal  ...                                             0.0\n",
              "101                     Spain  ...                                             0.0\n",
              "102                    Guinea  ...                                           997.0\n",
              "103  United States of America  ...                                             1.0\n",
              "104              Sierra Leone  ...                                          1500.0\n",
              "\n",
              "[5 rows x 10 columns]"
            ]
          },
          "metadata": {
            "tags": []
          },
          "execution_count": 21
        }
      ]
    },
    {
      "cell_type": "code",
      "metadata": {
        "id": "KwSfAsYYJf2K",
        "colab_type": "code",
        "colab": {}
      },
      "source": [
        ""
      ],
      "execution_count": 0,
      "outputs": []
    },
    {
      "cell_type": "code",
      "metadata": {
        "id": "2NJ-LkcLJsSQ",
        "colab_type": "code",
        "outputId": "df8bcb96-1a96-46b0-9f68-224221b2a1ae",
        "colab": {
          "base_uri": "https://localhost:8080/",
          "height": 51
        }
      },
      "source": [
        "df.Country.values"
      ],
      "execution_count": 0,
      "outputs": [
        {
          "output_type": "execute_result",
          "data": {
            "text/plain": [
              "array(['Guinea', 'Nigeria', 'Sierra Leone', ..., 'Liberia', 'Nigeria',\n",
              "       'United States of America'], dtype=object)"
            ]
          },
          "metadata": {
            "tags": []
          },
          "execution_count": 33
        }
      ]
    },
    {
      "cell_type": "code",
      "metadata": {
        "id": "jt15AEKYKWCN",
        "colab_type": "code",
        "outputId": "585f0560-18c1-407c-a6b4-5530ea3e62ed",
        "colab": {
          "base_uri": "https://localhost:8080/",
          "height": 34
        }
      },
      "source": [
        "df['No. of confirmed cases'].values"
      ],
      "execution_count": 0,
      "outputs": [
        {
          "output_type": "execute_result",
          "data": {
            "text/plain": [
              "array([482.,  15., 935., ...,   2.,  19.,   4.])"
            ]
          },
          "metadata": {
            "tags": []
          },
          "execution_count": 34
        }
      ]
    },
    {
      "cell_type": "code",
      "metadata": {
        "id": "CGxtfV9rKaYo",
        "colab_type": "code",
        "outputId": "001baeec-282f-4ffb-eeda-ab27711a99e1",
        "colab": {
          "base_uri": "https://localhost:8080/",
          "height": 34
        }
      },
      "source": [
        "df['No. of confirmed cases'].values"
      ],
      "execution_count": 0,
      "outputs": [
        {
          "output_type": "execute_result",
          "data": {
            "text/plain": [
              "array([482.,  15., 935., ...,   2.,  19.,   4.])"
            ]
          },
          "metadata": {
            "tags": []
          },
          "execution_count": 35
        }
      ]
    },
    {
      "cell_type": "code",
      "metadata": {
        "id": "a_cjdj8GLkwn",
        "colab_type": "code",
        "outputId": "a56a7732-74cc-4952-ce11-e6e4de52ae4d",
        "colab": {
          "base_uri": "https://localhost:8080/",
          "height": 68
        }
      },
      "source": [
        "df.Country.unique()"
      ],
      "execution_count": 0,
      "outputs": [
        {
          "output_type": "execute_result",
          "data": {
            "text/plain": [
              "array(['Guinea', 'Nigeria', 'Sierra Leone', 'Liberia', 'Senegal',\n",
              "       'United States of America', 'Spain', 'Mali', 'United Kingdom',\n",
              "       'Italy'], dtype=object)"
            ]
          },
          "metadata": {
            "tags": []
          },
          "execution_count": 36
        }
      ]
    },
    {
      "cell_type": "code",
      "metadata": {
        "id": "HhGpg7fbLpOT",
        "colab_type": "code",
        "outputId": "61f268c0-3d24-4fa9-dee8-7f7f93466d63",
        "colab": {
          "base_uri": "https://localhost:8080/",
          "height": 204
        }
      },
      "source": [
        "df.Country.value_counts()"
      ],
      "execution_count": 0,
      "outputs": [
        {
          "output_type": "execute_result",
          "data": {
            "text/plain": [
              "Liberia                     365\n",
              "Sierra Leone                259\n",
              "Guinea                      259\n",
              "Nigeria                     255\n",
              "Senegal                     254\n",
              "United States of America    245\n",
              "Mali                        243\n",
              "Spain                       243\n",
              "United Kingdom              221\n",
              "Italy                       141\n",
              "Name: Country, dtype: int64"
            ]
          },
          "metadata": {
            "tags": []
          },
          "execution_count": 39
        }
      ]
    },
    {
      "cell_type": "code",
      "metadata": {
        "id": "K-XlsUt7L3NT",
        "colab_type": "code",
        "outputId": "3e167b35-7110-486f-ed3f-2a49a63dcd68",
        "colab": {
          "base_uri": "https://localhost:8080/",
          "height": 247
        }
      },
      "source": [
        "df.agg(['count', 'size', 'nunique'])"
      ],
      "execution_count": 0,
      "outputs": [
        {
          "output_type": "execute_result",
          "data": {
            "text/html": [
              "<div>\n",
              "<style scoped>\n",
              "    .dataframe tbody tr th:only-of-type {\n",
              "        vertical-align: middle;\n",
              "    }\n",
              "\n",
              "    .dataframe tbody tr th {\n",
              "        vertical-align: top;\n",
              "    }\n",
              "\n",
              "    .dataframe thead th {\n",
              "        text-align: right;\n",
              "    }\n",
              "</style>\n",
              "<table border=\"1\" class=\"dataframe\">\n",
              "  <thead>\n",
              "    <tr style=\"text-align: right;\">\n",
              "      <th></th>\n",
              "      <th>Country</th>\n",
              "      <th>Date</th>\n",
              "      <th>No. of suspected cases</th>\n",
              "      <th>No. of probable cases</th>\n",
              "      <th>No. of confirmed cases</th>\n",
              "      <th>No. of confirmed, probable and suspected cases</th>\n",
              "      <th>No. of suspected deaths</th>\n",
              "      <th>No. of probable deaths</th>\n",
              "      <th>No. of confirmed deaths</th>\n",
              "      <th>No. of confirmed, probable and suspected deaths</th>\n",
              "    </tr>\n",
              "  </thead>\n",
              "  <tbody>\n",
              "    <tr>\n",
              "      <th>count</th>\n",
              "      <td>2485</td>\n",
              "      <td>2485</td>\n",
              "      <td>2366</td>\n",
              "      <td>2436</td>\n",
              "      <td>2484</td>\n",
              "      <td>2477</td>\n",
              "      <td>1308</td>\n",
              "      <td>1526</td>\n",
              "      <td>1648</td>\n",
              "      <td>2485</td>\n",
              "    </tr>\n",
              "    <tr>\n",
              "      <th>size</th>\n",
              "      <td>2485</td>\n",
              "      <td>2485</td>\n",
              "      <td>2485</td>\n",
              "      <td>2485</td>\n",
              "      <td>2485</td>\n",
              "      <td>2485</td>\n",
              "      <td>2485</td>\n",
              "      <td>2485</td>\n",
              "      <td>2485</td>\n",
              "      <td>2485</td>\n",
              "    </tr>\n",
              "    <tr>\n",
              "      <th>nunique</th>\n",
              "      <td>10</td>\n",
              "      <td>259</td>\n",
              "      <td>311</td>\n",
              "      <td>103</td>\n",
              "      <td>343</td>\n",
              "      <td>435</td>\n",
              "      <td>29</td>\n",
              "      <td>75</td>\n",
              "      <td>284</td>\n",
              "      <td>341</td>\n",
              "    </tr>\n",
              "  </tbody>\n",
              "</table>\n",
              "</div>"
            ],
            "text/plain": [
              "         Country  ...  No. of confirmed, probable and suspected deaths\n",
              "count       2485  ...                                             2485\n",
              "size        2485  ...                                             2485\n",
              "nunique       10  ...                                              341\n",
              "\n",
              "[3 rows x 10 columns]"
            ]
          },
          "metadata": {
            "tags": []
          },
          "execution_count": 40
        }
      ]
    },
    {
      "cell_type": "code",
      "metadata": {
        "id": "VNgG-ay1L6AC",
        "colab_type": "code",
        "outputId": "af069dad-21bf-4cee-b342-2bc25ed44319",
        "colab": {
          "base_uri": "https://localhost:8080/",
          "height": 589
        }
      },
      "source": [
        "df.groupby('No. of confirmed cases').agg(['count', 'size', 'nunique']).stack()"
      ],
      "execution_count": 0,
      "outputs": [
        {
          "output_type": "execute_result",
          "data": {
            "text/html": [
              "<div>\n",
              "<style scoped>\n",
              "    .dataframe tbody tr th:only-of-type {\n",
              "        vertical-align: middle;\n",
              "    }\n",
              "\n",
              "    .dataframe tbody tr th {\n",
              "        vertical-align: top;\n",
              "    }\n",
              "\n",
              "    .dataframe thead th {\n",
              "        text-align: right;\n",
              "    }\n",
              "</style>\n",
              "<table border=\"1\" class=\"dataframe\">\n",
              "  <thead>\n",
              "    <tr style=\"text-align: right;\">\n",
              "      <th></th>\n",
              "      <th></th>\n",
              "      <th>Country</th>\n",
              "      <th>Date</th>\n",
              "      <th>No. of suspected cases</th>\n",
              "      <th>No. of probable cases</th>\n",
              "      <th>No. of confirmed, probable and suspected cases</th>\n",
              "      <th>No. of suspected deaths</th>\n",
              "      <th>No. of probable deaths</th>\n",
              "      <th>No. of confirmed deaths</th>\n",
              "      <th>No. of confirmed, probable and suspected deaths</th>\n",
              "    </tr>\n",
              "    <tr>\n",
              "      <th>No. of confirmed cases</th>\n",
              "      <th></th>\n",
              "      <th></th>\n",
              "      <th></th>\n",
              "      <th></th>\n",
              "      <th></th>\n",
              "      <th></th>\n",
              "      <th></th>\n",
              "      <th></th>\n",
              "      <th></th>\n",
              "      <th></th>\n",
              "    </tr>\n",
              "  </thead>\n",
              "  <tbody>\n",
              "    <tr>\n",
              "      <th rowspan=\"3\" valign=\"top\">1.0</th>\n",
              "      <th>count</th>\n",
              "      <td>867</td>\n",
              "      <td>867</td>\n",
              "      <td>857</td>\n",
              "      <td>857</td>\n",
              "      <td>863</td>\n",
              "      <td>498</td>\n",
              "      <td>498</td>\n",
              "      <td>508</td>\n",
              "      <td>867</td>\n",
              "    </tr>\n",
              "    <tr>\n",
              "      <th>size</th>\n",
              "      <td>867</td>\n",
              "      <td>867</td>\n",
              "      <td>867</td>\n",
              "      <td>867</td>\n",
              "      <td>867</td>\n",
              "      <td>867</td>\n",
              "      <td>867</td>\n",
              "      <td>867</td>\n",
              "      <td>867</td>\n",
              "    </tr>\n",
              "    <tr>\n",
              "      <th>nunique</th>\n",
              "      <td>6</td>\n",
              "      <td>258</td>\n",
              "      <td>2</td>\n",
              "      <td>1</td>\n",
              "      <td>3</td>\n",
              "      <td>1</td>\n",
              "      <td>1</td>\n",
              "      <td>2</td>\n",
              "      <td>2</td>\n",
              "    </tr>\n",
              "    <tr>\n",
              "      <th rowspan=\"2\" valign=\"top\">2.0</th>\n",
              "      <th>count</th>\n",
              "      <td>3</td>\n",
              "      <td>3</td>\n",
              "      <td>2</td>\n",
              "      <td>2</td>\n",
              "      <td>3</td>\n",
              "      <td>1</td>\n",
              "      <td>2</td>\n",
              "      <td>3</td>\n",
              "      <td>3</td>\n",
              "    </tr>\n",
              "    <tr>\n",
              "      <th>size</th>\n",
              "      <td>3</td>\n",
              "      <td>3</td>\n",
              "      <td>3</td>\n",
              "      <td>3</td>\n",
              "      <td>3</td>\n",
              "      <td>3</td>\n",
              "      <td>3</td>\n",
              "      <td>3</td>\n",
              "      <td>3</td>\n",
              "    </tr>\n",
              "    <tr>\n",
              "      <th>...</th>\n",
              "      <th>...</th>\n",
              "      <td>...</td>\n",
              "      <td>...</td>\n",
              "      <td>...</td>\n",
              "      <td>...</td>\n",
              "      <td>...</td>\n",
              "      <td>...</td>\n",
              "      <td>...</td>\n",
              "      <td>...</td>\n",
              "      <td>...</td>\n",
              "    </tr>\n",
              "    <tr>\n",
              "      <th rowspan=\"2\" valign=\"top\">8703.0</th>\n",
              "      <th>size</th>\n",
              "      <td>2</td>\n",
              "      <td>2</td>\n",
              "      <td>2</td>\n",
              "      <td>2</td>\n",
              "      <td>2</td>\n",
              "      <td>2</td>\n",
              "      <td>2</td>\n",
              "      <td>2</td>\n",
              "      <td>2</td>\n",
              "    </tr>\n",
              "    <tr>\n",
              "      <th>nunique</th>\n",
              "      <td>1</td>\n",
              "      <td>2</td>\n",
              "      <td>2</td>\n",
              "      <td>1</td>\n",
              "      <td>2</td>\n",
              "      <td>1</td>\n",
              "      <td>1</td>\n",
              "      <td>1</td>\n",
              "      <td>1</td>\n",
              "    </tr>\n",
              "    <tr>\n",
              "      <th rowspan=\"3\" valign=\"top\">8704.0</th>\n",
              "      <th>count</th>\n",
              "      <td>53</td>\n",
              "      <td>53</td>\n",
              "      <td>53</td>\n",
              "      <td>53</td>\n",
              "      <td>53</td>\n",
              "      <td>53</td>\n",
              "      <td>53</td>\n",
              "      <td>53</td>\n",
              "      <td>53</td>\n",
              "    </tr>\n",
              "    <tr>\n",
              "      <th>size</th>\n",
              "      <td>53</td>\n",
              "      <td>53</td>\n",
              "      <td>53</td>\n",
              "      <td>53</td>\n",
              "      <td>53</td>\n",
              "      <td>53</td>\n",
              "      <td>53</td>\n",
              "      <td>53</td>\n",
              "      <td>53</td>\n",
              "    </tr>\n",
              "    <tr>\n",
              "      <th>nunique</th>\n",
              "      <td>1</td>\n",
              "      <td>53</td>\n",
              "      <td>28</td>\n",
              "      <td>1</td>\n",
              "      <td>28</td>\n",
              "      <td>1</td>\n",
              "      <td>1</td>\n",
              "      <td>2</td>\n",
              "      <td>2</td>\n",
              "    </tr>\n",
              "  </tbody>\n",
              "</table>\n",
              "<p>1029 rows × 9 columns</p>\n",
              "</div>"
            ],
            "text/plain": [
              "                                Country  ...  No. of confirmed, probable and suspected deaths\n",
              "No. of confirmed cases                   ...                                                 \n",
              "1.0                    count        867  ...                                              867\n",
              "                       size         867  ...                                              867\n",
              "                       nunique        6  ...                                                2\n",
              "2.0                    count          3  ...                                                3\n",
              "                       size           3  ...                                                3\n",
              "...                                 ...  ...                                              ...\n",
              "8703.0                 size           2  ...                                                2\n",
              "                       nunique        1  ...                                                1\n",
              "8704.0                 count         53  ...                                               53\n",
              "                       size          53  ...                                               53\n",
              "                       nunique        1  ...                                                2\n",
              "\n",
              "[1029 rows x 9 columns]"
            ]
          },
          "metadata": {
            "tags": []
          },
          "execution_count": 42
        }
      ]
    },
    {
      "cell_type": "code",
      "metadata": {
        "id": "tDPe_VOMMA7r",
        "colab_type": "code",
        "outputId": "f56dca14-7de3-4d3a-9374-0a8502553a4c",
        "colab": {
          "base_uri": "https://localhost:8080/",
          "height": 569
        }
      },
      "source": [
        "df.groupby('No. of confirmed cases').agg(['count', 'size', 'nunique'])"
      ],
      "execution_count": 0,
      "outputs": [
        {
          "output_type": "execute_result",
          "data": {
            "text/html": [
              "<div>\n",
              "<style scoped>\n",
              "    .dataframe tbody tr th:only-of-type {\n",
              "        vertical-align: middle;\n",
              "    }\n",
              "\n",
              "    .dataframe tbody tr th {\n",
              "        vertical-align: top;\n",
              "    }\n",
              "\n",
              "    .dataframe thead tr th {\n",
              "        text-align: left;\n",
              "    }\n",
              "\n",
              "    .dataframe thead tr:last-of-type th {\n",
              "        text-align: right;\n",
              "    }\n",
              "</style>\n",
              "<table border=\"1\" class=\"dataframe\">\n",
              "  <thead>\n",
              "    <tr>\n",
              "      <th></th>\n",
              "      <th colspan=\"3\" halign=\"left\">Country</th>\n",
              "      <th colspan=\"3\" halign=\"left\">Date</th>\n",
              "      <th colspan=\"3\" halign=\"left\">No. of suspected cases</th>\n",
              "      <th colspan=\"3\" halign=\"left\">No. of probable cases</th>\n",
              "      <th colspan=\"3\" halign=\"left\">No. of confirmed, probable and suspected cases</th>\n",
              "      <th colspan=\"3\" halign=\"left\">No. of suspected deaths</th>\n",
              "      <th colspan=\"3\" halign=\"left\">No. of probable deaths</th>\n",
              "      <th colspan=\"3\" halign=\"left\">No. of confirmed deaths</th>\n",
              "      <th colspan=\"3\" halign=\"left\">No. of confirmed, probable and suspected deaths</th>\n",
              "    </tr>\n",
              "    <tr>\n",
              "      <th></th>\n",
              "      <th>count</th>\n",
              "      <th>size</th>\n",
              "      <th>nunique</th>\n",
              "      <th>count</th>\n",
              "      <th>size</th>\n",
              "      <th>nunique</th>\n",
              "      <th>count</th>\n",
              "      <th>size</th>\n",
              "      <th>nunique</th>\n",
              "      <th>count</th>\n",
              "      <th>size</th>\n",
              "      <th>nunique</th>\n",
              "      <th>count</th>\n",
              "      <th>size</th>\n",
              "      <th>nunique</th>\n",
              "      <th>count</th>\n",
              "      <th>size</th>\n",
              "      <th>nunique</th>\n",
              "      <th>count</th>\n",
              "      <th>size</th>\n",
              "      <th>nunique</th>\n",
              "      <th>count</th>\n",
              "      <th>size</th>\n",
              "      <th>nunique</th>\n",
              "      <th>count</th>\n",
              "      <th>size</th>\n",
              "      <th>nunique</th>\n",
              "    </tr>\n",
              "    <tr>\n",
              "      <th>No. of confirmed cases</th>\n",
              "      <th></th>\n",
              "      <th></th>\n",
              "      <th></th>\n",
              "      <th></th>\n",
              "      <th></th>\n",
              "      <th></th>\n",
              "      <th></th>\n",
              "      <th></th>\n",
              "      <th></th>\n",
              "      <th></th>\n",
              "      <th></th>\n",
              "      <th></th>\n",
              "      <th></th>\n",
              "      <th></th>\n",
              "      <th></th>\n",
              "      <th></th>\n",
              "      <th></th>\n",
              "      <th></th>\n",
              "      <th></th>\n",
              "      <th></th>\n",
              "      <th></th>\n",
              "      <th></th>\n",
              "      <th></th>\n",
              "      <th></th>\n",
              "      <th></th>\n",
              "      <th></th>\n",
              "      <th></th>\n",
              "    </tr>\n",
              "  </thead>\n",
              "  <tbody>\n",
              "    <tr>\n",
              "      <th>1.0</th>\n",
              "      <td>867</td>\n",
              "      <td>867</td>\n",
              "      <td>6</td>\n",
              "      <td>867</td>\n",
              "      <td>867</td>\n",
              "      <td>258</td>\n",
              "      <td>857</td>\n",
              "      <td>867</td>\n",
              "      <td>2</td>\n",
              "      <td>857</td>\n",
              "      <td>867</td>\n",
              "      <td>1</td>\n",
              "      <td>863</td>\n",
              "      <td>867</td>\n",
              "      <td>3</td>\n",
              "      <td>498</td>\n",
              "      <td>867</td>\n",
              "      <td>1</td>\n",
              "      <td>498</td>\n",
              "      <td>867</td>\n",
              "      <td>1</td>\n",
              "      <td>508</td>\n",
              "      <td>867</td>\n",
              "      <td>2</td>\n",
              "      <td>867</td>\n",
              "      <td>867</td>\n",
              "      <td>2</td>\n",
              "    </tr>\n",
              "    <tr>\n",
              "      <th>2.0</th>\n",
              "      <td>3</td>\n",
              "      <td>3</td>\n",
              "      <td>3</td>\n",
              "      <td>3</td>\n",
              "      <td>3</td>\n",
              "      <td>3</td>\n",
              "      <td>2</td>\n",
              "      <td>3</td>\n",
              "      <td>1</td>\n",
              "      <td>2</td>\n",
              "      <td>3</td>\n",
              "      <td>2</td>\n",
              "      <td>3</td>\n",
              "      <td>3</td>\n",
              "      <td>3</td>\n",
              "      <td>1</td>\n",
              "      <td>3</td>\n",
              "      <td>1</td>\n",
              "      <td>2</td>\n",
              "      <td>3</td>\n",
              "      <td>2</td>\n",
              "      <td>3</td>\n",
              "      <td>3</td>\n",
              "      <td>2</td>\n",
              "      <td>3</td>\n",
              "      <td>3</td>\n",
              "      <td>2</td>\n",
              "    </tr>\n",
              "    <tr>\n",
              "      <th>3.0</th>\n",
              "      <td>7</td>\n",
              "      <td>7</td>\n",
              "      <td>3</td>\n",
              "      <td>7</td>\n",
              "      <td>7</td>\n",
              "      <td>7</td>\n",
              "      <td>2</td>\n",
              "      <td>7</td>\n",
              "      <td>2</td>\n",
              "      <td>5</td>\n",
              "      <td>7</td>\n",
              "      <td>2</td>\n",
              "      <td>7</td>\n",
              "      <td>7</td>\n",
              "      <td>3</td>\n",
              "      <td>1</td>\n",
              "      <td>7</td>\n",
              "      <td>1</td>\n",
              "      <td>1</td>\n",
              "      <td>7</td>\n",
              "      <td>1</td>\n",
              "      <td>6</td>\n",
              "      <td>7</td>\n",
              "      <td>1</td>\n",
              "      <td>7</td>\n",
              "      <td>7</td>\n",
              "      <td>3</td>\n",
              "    </tr>\n",
              "    <tr>\n",
              "      <th>4.0</th>\n",
              "      <td>239</td>\n",
              "      <td>239</td>\n",
              "      <td>1</td>\n",
              "      <td>239</td>\n",
              "      <td>239</td>\n",
              "      <td>239</td>\n",
              "      <td>238</td>\n",
              "      <td>239</td>\n",
              "      <td>1</td>\n",
              "      <td>238</td>\n",
              "      <td>239</td>\n",
              "      <td>1</td>\n",
              "      <td>239</td>\n",
              "      <td>239</td>\n",
              "      <td>1</td>\n",
              "      <td>238</td>\n",
              "      <td>239</td>\n",
              "      <td>1</td>\n",
              "      <td>238</td>\n",
              "      <td>239</td>\n",
              "      <td>1</td>\n",
              "      <td>239</td>\n",
              "      <td>239</td>\n",
              "      <td>1</td>\n",
              "      <td>239</td>\n",
              "      <td>239</td>\n",
              "      <td>1</td>\n",
              "    </tr>\n",
              "    <tr>\n",
              "      <th>5.0</th>\n",
              "      <td>5</td>\n",
              "      <td>5</td>\n",
              "      <td>2</td>\n",
              "      <td>5</td>\n",
              "      <td>5</td>\n",
              "      <td>5</td>\n",
              "      <td>2</td>\n",
              "      <td>5</td>\n",
              "      <td>1</td>\n",
              "      <td>5</td>\n",
              "      <td>5</td>\n",
              "      <td>1</td>\n",
              "      <td>5</td>\n",
              "      <td>5</td>\n",
              "      <td>1</td>\n",
              "      <td>2</td>\n",
              "      <td>5</td>\n",
              "      <td>1</td>\n",
              "      <td>2</td>\n",
              "      <td>5</td>\n",
              "      <td>1</td>\n",
              "      <td>5</td>\n",
              "      <td>5</td>\n",
              "      <td>3</td>\n",
              "      <td>5</td>\n",
              "      <td>5</td>\n",
              "      <td>3</td>\n",
              "    </tr>\n",
              "    <tr>\n",
              "      <th>...</th>\n",
              "      <td>...</td>\n",
              "      <td>...</td>\n",
              "      <td>...</td>\n",
              "      <td>...</td>\n",
              "      <td>...</td>\n",
              "      <td>...</td>\n",
              "      <td>...</td>\n",
              "      <td>...</td>\n",
              "      <td>...</td>\n",
              "      <td>...</td>\n",
              "      <td>...</td>\n",
              "      <td>...</td>\n",
              "      <td>...</td>\n",
              "      <td>...</td>\n",
              "      <td>...</td>\n",
              "      <td>...</td>\n",
              "      <td>...</td>\n",
              "      <td>...</td>\n",
              "      <td>...</td>\n",
              "      <td>...</td>\n",
              "      <td>...</td>\n",
              "      <td>...</td>\n",
              "      <td>...</td>\n",
              "      <td>...</td>\n",
              "      <td>...</td>\n",
              "      <td>...</td>\n",
              "      <td>...</td>\n",
              "    </tr>\n",
              "    <tr>\n",
              "      <th>8698.0</th>\n",
              "      <td>5</td>\n",
              "      <td>5</td>\n",
              "      <td>1</td>\n",
              "      <td>5</td>\n",
              "      <td>5</td>\n",
              "      <td>5</td>\n",
              "      <td>5</td>\n",
              "      <td>5</td>\n",
              "      <td>4</td>\n",
              "      <td>5</td>\n",
              "      <td>5</td>\n",
              "      <td>1</td>\n",
              "      <td>5</td>\n",
              "      <td>5</td>\n",
              "      <td>4</td>\n",
              "      <td>5</td>\n",
              "      <td>5</td>\n",
              "      <td>1</td>\n",
              "      <td>5</td>\n",
              "      <td>5</td>\n",
              "      <td>1</td>\n",
              "      <td>5</td>\n",
              "      <td>5</td>\n",
              "      <td>1</td>\n",
              "      <td>5</td>\n",
              "      <td>5</td>\n",
              "      <td>1</td>\n",
              "    </tr>\n",
              "    <tr>\n",
              "      <th>8699.0</th>\n",
              "      <td>3</td>\n",
              "      <td>3</td>\n",
              "      <td>1</td>\n",
              "      <td>3</td>\n",
              "      <td>3</td>\n",
              "      <td>3</td>\n",
              "      <td>3</td>\n",
              "      <td>3</td>\n",
              "      <td>2</td>\n",
              "      <td>3</td>\n",
              "      <td>3</td>\n",
              "      <td>1</td>\n",
              "      <td>3</td>\n",
              "      <td>3</td>\n",
              "      <td>2</td>\n",
              "      <td>3</td>\n",
              "      <td>3</td>\n",
              "      <td>1</td>\n",
              "      <td>3</td>\n",
              "      <td>3</td>\n",
              "      <td>1</td>\n",
              "      <td>3</td>\n",
              "      <td>3</td>\n",
              "      <td>1</td>\n",
              "      <td>3</td>\n",
              "      <td>3</td>\n",
              "      <td>1</td>\n",
              "    </tr>\n",
              "    <tr>\n",
              "      <th>8702.0</th>\n",
              "      <td>1</td>\n",
              "      <td>1</td>\n",
              "      <td>1</td>\n",
              "      <td>1</td>\n",
              "      <td>1</td>\n",
              "      <td>1</td>\n",
              "      <td>1</td>\n",
              "      <td>1</td>\n",
              "      <td>1</td>\n",
              "      <td>1</td>\n",
              "      <td>1</td>\n",
              "      <td>1</td>\n",
              "      <td>1</td>\n",
              "      <td>1</td>\n",
              "      <td>1</td>\n",
              "      <td>1</td>\n",
              "      <td>1</td>\n",
              "      <td>1</td>\n",
              "      <td>1</td>\n",
              "      <td>1</td>\n",
              "      <td>1</td>\n",
              "      <td>1</td>\n",
              "      <td>1</td>\n",
              "      <td>1</td>\n",
              "      <td>1</td>\n",
              "      <td>1</td>\n",
              "      <td>1</td>\n",
              "    </tr>\n",
              "    <tr>\n",
              "      <th>8703.0</th>\n",
              "      <td>2</td>\n",
              "      <td>2</td>\n",
              "      <td>1</td>\n",
              "      <td>2</td>\n",
              "      <td>2</td>\n",
              "      <td>2</td>\n",
              "      <td>2</td>\n",
              "      <td>2</td>\n",
              "      <td>2</td>\n",
              "      <td>2</td>\n",
              "      <td>2</td>\n",
              "      <td>1</td>\n",
              "      <td>2</td>\n",
              "      <td>2</td>\n",
              "      <td>2</td>\n",
              "      <td>2</td>\n",
              "      <td>2</td>\n",
              "      <td>1</td>\n",
              "      <td>2</td>\n",
              "      <td>2</td>\n",
              "      <td>1</td>\n",
              "      <td>2</td>\n",
              "      <td>2</td>\n",
              "      <td>1</td>\n",
              "      <td>2</td>\n",
              "      <td>2</td>\n",
              "      <td>1</td>\n",
              "    </tr>\n",
              "    <tr>\n",
              "      <th>8704.0</th>\n",
              "      <td>53</td>\n",
              "      <td>53</td>\n",
              "      <td>1</td>\n",
              "      <td>53</td>\n",
              "      <td>53</td>\n",
              "      <td>53</td>\n",
              "      <td>53</td>\n",
              "      <td>53</td>\n",
              "      <td>28</td>\n",
              "      <td>53</td>\n",
              "      <td>53</td>\n",
              "      <td>1</td>\n",
              "      <td>53</td>\n",
              "      <td>53</td>\n",
              "      <td>28</td>\n",
              "      <td>53</td>\n",
              "      <td>53</td>\n",
              "      <td>1</td>\n",
              "      <td>53</td>\n",
              "      <td>53</td>\n",
              "      <td>1</td>\n",
              "      <td>53</td>\n",
              "      <td>53</td>\n",
              "      <td>2</td>\n",
              "      <td>53</td>\n",
              "      <td>53</td>\n",
              "      <td>2</td>\n",
              "    </tr>\n",
              "  </tbody>\n",
              "</table>\n",
              "<p>343 rows × 27 columns</p>\n",
              "</div>"
            ],
            "text/plain": [
              "                       Country       ... No. of confirmed, probable and suspected deaths        \n",
              "                         count size  ...                                            size nunique\n",
              "No. of confirmed cases               ...                                                        \n",
              "1.0                        867  867  ...                                             867       2\n",
              "2.0                          3    3  ...                                               3       2\n",
              "3.0                          7    7  ...                                               7       3\n",
              "4.0                        239  239  ...                                             239       1\n",
              "5.0                          5    5  ...                                               5       3\n",
              "...                        ...  ...  ...                                             ...     ...\n",
              "8698.0                       5    5  ...                                               5       1\n",
              "8699.0                       3    3  ...                                               3       1\n",
              "8702.0                       1    1  ...                                               1       1\n",
              "8703.0                       2    2  ...                                               2       1\n",
              "8704.0                      53   53  ...                                              53       2\n",
              "\n",
              "[343 rows x 27 columns]"
            ]
          },
          "metadata": {
            "tags": []
          },
          "execution_count": 43
        }
      ]
    },
    {
      "cell_type": "code",
      "metadata": {
        "id": "R0q14DIHMG93",
        "colab_type": "code",
        "outputId": "a1128e2d-3a93-4718-84cb-e64ab8ffaebb",
        "colab": {
          "base_uri": "https://localhost:8080/",
          "height": 428
        }
      },
      "source": [
        "\n",
        "df_sample = df.sample(frac=0.05, random_state=1)\n",
        "df_sample.head()"
      ],
      "execution_count": 0,
      "outputs": [
        {
          "output_type": "execute_result",
          "data": {
            "text/html": [
              "<div>\n",
              "<style scoped>\n",
              "    .dataframe tbody tr th:only-of-type {\n",
              "        vertical-align: middle;\n",
              "    }\n",
              "\n",
              "    .dataframe tbody tr th {\n",
              "        vertical-align: top;\n",
              "    }\n",
              "\n",
              "    .dataframe thead th {\n",
              "        text-align: right;\n",
              "    }\n",
              "</style>\n",
              "<table border=\"1\" class=\"dataframe\">\n",
              "  <thead>\n",
              "    <tr style=\"text-align: right;\">\n",
              "      <th></th>\n",
              "      <th>Country</th>\n",
              "      <th>Date</th>\n",
              "      <th>No. of suspected cases</th>\n",
              "      <th>No. of probable cases</th>\n",
              "      <th>No. of confirmed cases</th>\n",
              "      <th>No. of confirmed, probable and suspected cases</th>\n",
              "      <th>No. of suspected deaths</th>\n",
              "      <th>No. of probable deaths</th>\n",
              "      <th>No. of confirmed deaths</th>\n",
              "      <th>No. of confirmed, probable and suspected deaths</th>\n",
              "    </tr>\n",
              "  </thead>\n",
              "  <tbody>\n",
              "    <tr>\n",
              "      <th>664</th>\n",
              "      <td>Liberia</td>\n",
              "      <td>2015-03-13</td>\n",
              "      <td>4453.0</td>\n",
              "      <td>1879.0</td>\n",
              "      <td>3150.0</td>\n",
              "      <td>9482.0</td>\n",
              "      <td>NaN</td>\n",
              "      <td>NaN</td>\n",
              "      <td>NaN</td>\n",
              "      <td>4241.0</td>\n",
              "    </tr>\n",
              "    <tr>\n",
              "      <th>608</th>\n",
              "      <td>Senegal</td>\n",
              "      <td>2015-03-02</td>\n",
              "      <td>0.0</td>\n",
              "      <td>0.0</td>\n",
              "      <td>1.0</td>\n",
              "      <td>1.0</td>\n",
              "      <td>0.0</td>\n",
              "      <td>0.0</td>\n",
              "      <td>0.0</td>\n",
              "      <td>0.0</td>\n",
              "    </tr>\n",
              "    <tr>\n",
              "      <th>304</th>\n",
              "      <td>Sierra Leone</td>\n",
              "      <td>2015-01-08</td>\n",
              "      <td>1984.0</td>\n",
              "      <td>287.0</td>\n",
              "      <td>7759.0</td>\n",
              "      <td>10030.0</td>\n",
              "      <td>158.0</td>\n",
              "      <td>208.0</td>\n",
              "      <td>2611.0</td>\n",
              "      <td>2977.0</td>\n",
              "    </tr>\n",
              "    <tr>\n",
              "      <th>2205</th>\n",
              "      <td>Mali</td>\n",
              "      <td>2015-10-29</td>\n",
              "      <td>0.0</td>\n",
              "      <td>1.0</td>\n",
              "      <td>7.0</td>\n",
              "      <td>8.0</td>\n",
              "      <td>NaN</td>\n",
              "      <td>NaN</td>\n",
              "      <td>NaN</td>\n",
              "      <td>6.0</td>\n",
              "    </tr>\n",
              "    <tr>\n",
              "      <th>587</th>\n",
              "      <td>United States of America</td>\n",
              "      <td>2015-02-26</td>\n",
              "      <td>0.0</td>\n",
              "      <td>0.0</td>\n",
              "      <td>4.0</td>\n",
              "      <td>4.0</td>\n",
              "      <td>0.0</td>\n",
              "      <td>0.0</td>\n",
              "      <td>1.0</td>\n",
              "      <td>1.0</td>\n",
              "    </tr>\n",
              "  </tbody>\n",
              "</table>\n",
              "</div>"
            ],
            "text/plain": [
              "                       Country  ... No. of confirmed, probable and suspected deaths\n",
              "664                    Liberia  ...                                          4241.0\n",
              "608                    Senegal  ...                                             0.0\n",
              "304               Sierra Leone  ...                                          2977.0\n",
              "2205                      Mali  ...                                             6.0\n",
              "587   United States of America  ...                                             1.0\n",
              "\n",
              "[5 rows x 10 columns]"
            ]
          },
          "metadata": {
            "tags": []
          },
          "execution_count": 44
        }
      ]
    },
    {
      "cell_type": "code",
      "metadata": {
        "id": "8COaLZUIMKKv",
        "colab_type": "code",
        "outputId": "a0224040-ca6d-4239-a173-37ffae2c7aba",
        "colab": {
          "base_uri": "https://localhost:8080/",
          "height": 34
        }
      },
      "source": [
        "\n",
        "df.shape"
      ],
      "execution_count": 0,
      "outputs": [
        {
          "output_type": "execute_result",
          "data": {
            "text/plain": [
              "(2485, 10)"
            ]
          },
          "metadata": {
            "tags": []
          },
          "execution_count": 45
        }
      ]
    },
    {
      "cell_type": "code",
      "metadata": {
        "id": "wzPSg5PjMMPc",
        "colab_type": "code",
        "outputId": "58842455-bbf6-4f77-9c9a-31772ae8138c",
        "colab": {
          "base_uri": "https://localhost:8080/",
          "height": 34
        }
      },
      "source": [
        "\n",
        "df_sample.shape"
      ],
      "execution_count": 0,
      "outputs": [
        {
          "output_type": "execute_result",
          "data": {
            "text/plain": [
              "(124, 10)"
            ]
          },
          "metadata": {
            "tags": []
          },
          "execution_count": 46
        }
      ]
    },
    {
      "cell_type": "code",
      "metadata": {
        "id": "5Qjnr-BtMdfv",
        "colab_type": "code",
        "outputId": "778b9f93-e5d3-4244-fb55-b2ea558d4ca4",
        "colab": {
          "base_uri": "https://localhost:8080/",
          "height": 394
        }
      },
      "source": [
        "df_dropped = df.dropna(subset=['No. of confirmed, probable and suspected cases'])\n",
        "df_dropped.head()"
      ],
      "execution_count": 0,
      "outputs": [
        {
          "output_type": "execute_result",
          "data": {
            "text/html": [
              "<div>\n",
              "<style scoped>\n",
              "    .dataframe tbody tr th:only-of-type {\n",
              "        vertical-align: middle;\n",
              "    }\n",
              "\n",
              "    .dataframe tbody tr th {\n",
              "        vertical-align: top;\n",
              "    }\n",
              "\n",
              "    .dataframe thead th {\n",
              "        text-align: right;\n",
              "    }\n",
              "</style>\n",
              "<table border=\"1\" class=\"dataframe\">\n",
              "  <thead>\n",
              "    <tr style=\"text-align: right;\">\n",
              "      <th></th>\n",
              "      <th>Country</th>\n",
              "      <th>Date</th>\n",
              "      <th>No. of suspected cases</th>\n",
              "      <th>No. of probable cases</th>\n",
              "      <th>No. of confirmed cases</th>\n",
              "      <th>No. of confirmed, probable and suspected cases</th>\n",
              "      <th>No. of suspected deaths</th>\n",
              "      <th>No. of probable deaths</th>\n",
              "      <th>No. of confirmed deaths</th>\n",
              "      <th>No. of confirmed, probable and suspected deaths</th>\n",
              "    </tr>\n",
              "  </thead>\n",
              "  <tbody>\n",
              "    <tr>\n",
              "      <th>0</th>\n",
              "      <td>Guinea</td>\n",
              "      <td>2014-08-29</td>\n",
              "      <td>25.0</td>\n",
              "      <td>141.0</td>\n",
              "      <td>482.0</td>\n",
              "      <td>648.0</td>\n",
              "      <td>2.0</td>\n",
              "      <td>141.0</td>\n",
              "      <td>287.0</td>\n",
              "      <td>430.0</td>\n",
              "    </tr>\n",
              "    <tr>\n",
              "      <th>1</th>\n",
              "      <td>Nigeria</td>\n",
              "      <td>2014-08-29</td>\n",
              "      <td>3.0</td>\n",
              "      <td>1.0</td>\n",
              "      <td>15.0</td>\n",
              "      <td>19.0</td>\n",
              "      <td>0.0</td>\n",
              "      <td>1.0</td>\n",
              "      <td>6.0</td>\n",
              "      <td>7.0</td>\n",
              "    </tr>\n",
              "    <tr>\n",
              "      <th>2</th>\n",
              "      <td>Sierra Leone</td>\n",
              "      <td>2014-08-29</td>\n",
              "      <td>54.0</td>\n",
              "      <td>37.0</td>\n",
              "      <td>935.0</td>\n",
              "      <td>1026.0</td>\n",
              "      <td>8.0</td>\n",
              "      <td>34.0</td>\n",
              "      <td>380.0</td>\n",
              "      <td>422.0</td>\n",
              "    </tr>\n",
              "    <tr>\n",
              "      <th>3</th>\n",
              "      <td>Liberia</td>\n",
              "      <td>2014-08-29</td>\n",
              "      <td>382.0</td>\n",
              "      <td>674.0</td>\n",
              "      <td>322.0</td>\n",
              "      <td>1378.0</td>\n",
              "      <td>168.0</td>\n",
              "      <td>301.0</td>\n",
              "      <td>225.0</td>\n",
              "      <td>694.0</td>\n",
              "    </tr>\n",
              "    <tr>\n",
              "      <th>4</th>\n",
              "      <td>Sierra Leone</td>\n",
              "      <td>2014-09-05</td>\n",
              "      <td>78.0</td>\n",
              "      <td>37.0</td>\n",
              "      <td>1146.0</td>\n",
              "      <td>1261.0</td>\n",
              "      <td>11.0</td>\n",
              "      <td>37.0</td>\n",
              "      <td>443.0</td>\n",
              "      <td>491.0</td>\n",
              "    </tr>\n",
              "  </tbody>\n",
              "</table>\n",
              "</div>"
            ],
            "text/plain": [
              "        Country  ... No. of confirmed, probable and suspected deaths\n",
              "0        Guinea  ...                                           430.0\n",
              "1       Nigeria  ...                                             7.0\n",
              "2  Sierra Leone  ...                                           422.0\n",
              "3       Liberia  ...                                           694.0\n",
              "4  Sierra Leone  ...                                           491.0\n",
              "\n",
              "[5 rows x 10 columns]"
            ]
          },
          "metadata": {
            "tags": []
          },
          "execution_count": 47
        }
      ]
    },
    {
      "cell_type": "code",
      "metadata": {
        "id": "bTixQ3vyMrnJ",
        "colab_type": "code",
        "outputId": "c941601f-42b9-422c-de5d-3782796f304f",
        "colab": {
          "base_uri": "https://localhost:8080/",
          "height": 34
        }
      },
      "source": [
        "df_dropped.shape"
      ],
      "execution_count": 0,
      "outputs": [
        {
          "output_type": "execute_result",
          "data": {
            "text/plain": [
              "(2477, 10)"
            ]
          },
          "metadata": {
            "tags": []
          },
          "execution_count": 48
        }
      ]
    },
    {
      "cell_type": "code",
      "metadata": {
        "id": "pbjcO0KnMuLf",
        "colab_type": "code",
        "outputId": "bdceab5f-c517-43f0-b681-9c0fcff7cd5f",
        "colab": {
          "base_uri": "https://localhost:8080/",
          "height": 394
        }
      },
      "source": [
        "df_copy = df.copy()\n",
        "df_copy.head()"
      ],
      "execution_count": 0,
      "outputs": [
        {
          "output_type": "execute_result",
          "data": {
            "text/html": [
              "<div>\n",
              "<style scoped>\n",
              "    .dataframe tbody tr th:only-of-type {\n",
              "        vertical-align: middle;\n",
              "    }\n",
              "\n",
              "    .dataframe tbody tr th {\n",
              "        vertical-align: top;\n",
              "    }\n",
              "\n",
              "    .dataframe thead th {\n",
              "        text-align: right;\n",
              "    }\n",
              "</style>\n",
              "<table border=\"1\" class=\"dataframe\">\n",
              "  <thead>\n",
              "    <tr style=\"text-align: right;\">\n",
              "      <th></th>\n",
              "      <th>Country</th>\n",
              "      <th>Date</th>\n",
              "      <th>No. of suspected cases</th>\n",
              "      <th>No. of probable cases</th>\n",
              "      <th>No. of confirmed cases</th>\n",
              "      <th>No. of confirmed, probable and suspected cases</th>\n",
              "      <th>No. of suspected deaths</th>\n",
              "      <th>No. of probable deaths</th>\n",
              "      <th>No. of confirmed deaths</th>\n",
              "      <th>No. of confirmed, probable and suspected deaths</th>\n",
              "    </tr>\n",
              "  </thead>\n",
              "  <tbody>\n",
              "    <tr>\n",
              "      <th>0</th>\n",
              "      <td>Guinea</td>\n",
              "      <td>2014-08-29</td>\n",
              "      <td>25.0</td>\n",
              "      <td>141.0</td>\n",
              "      <td>482.0</td>\n",
              "      <td>648.0</td>\n",
              "      <td>2.0</td>\n",
              "      <td>141.0</td>\n",
              "      <td>287.0</td>\n",
              "      <td>430.0</td>\n",
              "    </tr>\n",
              "    <tr>\n",
              "      <th>1</th>\n",
              "      <td>Nigeria</td>\n",
              "      <td>2014-08-29</td>\n",
              "      <td>3.0</td>\n",
              "      <td>1.0</td>\n",
              "      <td>15.0</td>\n",
              "      <td>19.0</td>\n",
              "      <td>0.0</td>\n",
              "      <td>1.0</td>\n",
              "      <td>6.0</td>\n",
              "      <td>7.0</td>\n",
              "    </tr>\n",
              "    <tr>\n",
              "      <th>2</th>\n",
              "      <td>Sierra Leone</td>\n",
              "      <td>2014-08-29</td>\n",
              "      <td>54.0</td>\n",
              "      <td>37.0</td>\n",
              "      <td>935.0</td>\n",
              "      <td>1026.0</td>\n",
              "      <td>8.0</td>\n",
              "      <td>34.0</td>\n",
              "      <td>380.0</td>\n",
              "      <td>422.0</td>\n",
              "    </tr>\n",
              "    <tr>\n",
              "      <th>3</th>\n",
              "      <td>Liberia</td>\n",
              "      <td>2014-08-29</td>\n",
              "      <td>382.0</td>\n",
              "      <td>674.0</td>\n",
              "      <td>322.0</td>\n",
              "      <td>1378.0</td>\n",
              "      <td>168.0</td>\n",
              "      <td>301.0</td>\n",
              "      <td>225.0</td>\n",
              "      <td>694.0</td>\n",
              "    </tr>\n",
              "    <tr>\n",
              "      <th>4</th>\n",
              "      <td>Sierra Leone</td>\n",
              "      <td>2014-09-05</td>\n",
              "      <td>78.0</td>\n",
              "      <td>37.0</td>\n",
              "      <td>1146.0</td>\n",
              "      <td>1261.0</td>\n",
              "      <td>11.0</td>\n",
              "      <td>37.0</td>\n",
              "      <td>443.0</td>\n",
              "      <td>491.0</td>\n",
              "    </tr>\n",
              "  </tbody>\n",
              "</table>\n",
              "</div>"
            ],
            "text/plain": [
              "        Country  ... No. of confirmed, probable and suspected deaths\n",
              "0        Guinea  ...                                           430.0\n",
              "1       Nigeria  ...                                             7.0\n",
              "2  Sierra Leone  ...                                           422.0\n",
              "3       Liberia  ...                                           694.0\n",
              "4  Sierra Leone  ...                                           491.0\n",
              "\n",
              "[5 rows x 10 columns]"
            ]
          },
          "metadata": {
            "tags": []
          },
          "execution_count": 49
        }
      ]
    },
    {
      "cell_type": "code",
      "metadata": {
        "id": "nteZxLvpMxnh",
        "colab_type": "code",
        "outputId": "6802c5d6-8631-4041-b8a1-05448862a867",
        "colab": {
          "base_uri": "https://localhost:8080/",
          "height": 34
        }
      },
      "source": [
        "df_copy.shape"
      ],
      "execution_count": 0,
      "outputs": [
        {
          "output_type": "execute_result",
          "data": {
            "text/plain": [
              "(2485, 10)"
            ]
          },
          "metadata": {
            "tags": []
          },
          "execution_count": 50
        }
      ]
    },
    {
      "cell_type": "code",
      "metadata": {
        "id": "dP2I8mugM2t2",
        "colab_type": "code",
        "outputId": "91e43593-dd40-4e9a-a814-a0640b335db9",
        "colab": {
          "base_uri": "https://localhost:8080/",
          "height": 34
        }
      },
      "source": [
        "df_dropped['No. of confirmed deaths'].dtype"
      ],
      "execution_count": 0,
      "outputs": [
        {
          "output_type": "execute_result",
          "data": {
            "text/plain": [
              "dtype('float64')"
            ]
          },
          "metadata": {
            "tags": []
          },
          "execution_count": 51
        }
      ]
    },
    {
      "cell_type": "code",
      "metadata": {
        "id": "_zcW1BFDM_U7",
        "colab_type": "code",
        "outputId": "462d2863-352e-47b4-a26a-76faadad2817",
        "colab": {
          "base_uri": "https://localhost:8080/",
          "height": 34
        }
      },
      "source": [
        "df_dropped['No. of confirmed deaths'].mean()"
      ],
      "execution_count": 0,
      "outputs": [
        {
          "output_type": "execute_result",
          "data": {
            "text/plain": [
              "781.6620145631068"
            ]
          },
          "metadata": {
            "tags": []
          },
          "execution_count": 52
        }
      ]
    },
    {
      "cell_type": "code",
      "metadata": {
        "id": "n8WNKL3kNEwl",
        "colab_type": "code",
        "colab": {}
      },
      "source": [
        "df_copy['No. of confirmed deaths'].fillna(value=np.round(df['No. of confirmed deaths'].mean(),decimals=0), inplace=True)"
      ],
      "execution_count": 0,
      "outputs": []
    },
    {
      "cell_type": "code",
      "metadata": {
        "id": "FcdCSVqrNTso",
        "colab_type": "code",
        "outputId": "5ca613ad-7b5a-40dc-fbe5-e63ae069de8d",
        "colab": {
          "base_uri": "https://localhost:8080/",
          "height": 247
        }
      },
      "source": [
        "df_copy.agg(['count', 'size', 'nunique'])"
      ],
      "execution_count": 0,
      "outputs": [
        {
          "output_type": "execute_result",
          "data": {
            "text/html": [
              "<div>\n",
              "<style scoped>\n",
              "    .dataframe tbody tr th:only-of-type {\n",
              "        vertical-align: middle;\n",
              "    }\n",
              "\n",
              "    .dataframe tbody tr th {\n",
              "        vertical-align: top;\n",
              "    }\n",
              "\n",
              "    .dataframe thead th {\n",
              "        text-align: right;\n",
              "    }\n",
              "</style>\n",
              "<table border=\"1\" class=\"dataframe\">\n",
              "  <thead>\n",
              "    <tr style=\"text-align: right;\">\n",
              "      <th></th>\n",
              "      <th>Country</th>\n",
              "      <th>Date</th>\n",
              "      <th>No. of suspected cases</th>\n",
              "      <th>No. of probable cases</th>\n",
              "      <th>No. of confirmed cases</th>\n",
              "      <th>No. of confirmed, probable and suspected cases</th>\n",
              "      <th>No. of suspected deaths</th>\n",
              "      <th>No. of probable deaths</th>\n",
              "      <th>No. of confirmed deaths</th>\n",
              "      <th>No. of confirmed, probable and suspected deaths</th>\n",
              "    </tr>\n",
              "  </thead>\n",
              "  <tbody>\n",
              "    <tr>\n",
              "      <th>count</th>\n",
              "      <td>2485</td>\n",
              "      <td>2485</td>\n",
              "      <td>2366</td>\n",
              "      <td>2436</td>\n",
              "      <td>2484</td>\n",
              "      <td>2477</td>\n",
              "      <td>1308</td>\n",
              "      <td>1526</td>\n",
              "      <td>2485</td>\n",
              "      <td>2485</td>\n",
              "    </tr>\n",
              "    <tr>\n",
              "      <th>size</th>\n",
              "      <td>2485</td>\n",
              "      <td>2485</td>\n",
              "      <td>2485</td>\n",
              "      <td>2485</td>\n",
              "      <td>2485</td>\n",
              "      <td>2485</td>\n",
              "      <td>2485</td>\n",
              "      <td>2485</td>\n",
              "      <td>2485</td>\n",
              "      <td>2485</td>\n",
              "    </tr>\n",
              "    <tr>\n",
              "      <th>nunique</th>\n",
              "      <td>10</td>\n",
              "      <td>259</td>\n",
              "      <td>311</td>\n",
              "      <td>103</td>\n",
              "      <td>343</td>\n",
              "      <td>435</td>\n",
              "      <td>29</td>\n",
              "      <td>75</td>\n",
              "      <td>285</td>\n",
              "      <td>341</td>\n",
              "    </tr>\n",
              "  </tbody>\n",
              "</table>\n",
              "</div>"
            ],
            "text/plain": [
              "         Country  ...  No. of confirmed, probable and suspected deaths\n",
              "count       2485  ...                                             2485\n",
              "size        2485  ...                                             2485\n",
              "nunique       10  ...                                              341\n",
              "\n",
              "[3 rows x 10 columns]"
            ]
          },
          "metadata": {
            "tags": []
          },
          "execution_count": 56
        }
      ]
    },
    {
      "cell_type": "code",
      "metadata": {
        "id": "0t92328nNyye",
        "colab_type": "code",
        "outputId": "eb696d43-d08a-4a44-f121-99ee3c6dcd3d",
        "colab": {
          "base_uri": "https://localhost:8080/",
          "height": 187
        }
      },
      "source": [
        "\n",
        "list(df['Country'].unique())"
      ],
      "execution_count": 0,
      "outputs": [
        {
          "output_type": "execute_result",
          "data": {
            "text/plain": [
              "['Guinea',\n",
              " 'Nigeria',\n",
              " 'Sierra Leone',\n",
              " 'Liberia',\n",
              " 'Senegal',\n",
              " 'United States of America',\n",
              " 'Spain',\n",
              " 'Mali',\n",
              " 'United Kingdom',\n",
              " 'Italy']"
            ]
          },
          "metadata": {
            "tags": []
          },
          "execution_count": 57
        }
      ]
    },
    {
      "cell_type": "code",
      "metadata": {
        "id": "OmGVNft8N888",
        "colab_type": "code",
        "outputId": "965f40f2-a7f3-4a3c-86b7-c3c4311c9e1c",
        "colab": {
          "base_uri": "https://localhost:8080/",
          "height": 187
        }
      },
      "source": [
        "\n",
        "list(df['Country'].unique())"
      ],
      "execution_count": 0,
      "outputs": [
        {
          "output_type": "execute_result",
          "data": {
            "text/plain": [
              "['Guinea',\n",
              " 'Nigeria',\n",
              " 'Sierra Leone',\n",
              " 'Liberia',\n",
              " 'Senegal',\n",
              " 'United States of America',\n",
              " 'Spain',\n",
              " 'Mali',\n",
              " 'United Kingdom',\n",
              " 'Italy']"
            ]
          },
          "metadata": {
            "tags": []
          },
          "execution_count": 58
        }
      ]
    },
    {
      "cell_type": "code",
      "metadata": {
        "id": "4e74LFYPOEwG",
        "colab_type": "code",
        "outputId": "43d38c20-6ad7-4723-c750-b3b4fc7efa2e",
        "colab": {
          "base_uri": "https://localhost:8080/",
          "height": 170
        }
      },
      "source": [
        "\n",
        "keys = list(df['Country'].unique())\n",
        "vals = range(1,10)\n",
        "act = dict(zip(keys, vals))\n",
        "act"
      ],
      "execution_count": 0,
      "outputs": [
        {
          "output_type": "execute_result",
          "data": {
            "text/plain": [
              "{'Guinea': 1,\n",
              " 'Liberia': 4,\n",
              " 'Mali': 8,\n",
              " 'Nigeria': 2,\n",
              " 'Senegal': 5,\n",
              " 'Sierra Leone': 3,\n",
              " 'Spain': 7,\n",
              " 'United Kingdom': 9,\n",
              " 'United States of America': 6}"
            ]
          },
          "metadata": {
            "tags": []
          },
          "execution_count": 59
        }
      ]
    },
    {
      "cell_type": "code",
      "metadata": {
        "id": "1i3v1F_OOZPO",
        "colab_type": "code",
        "outputId": "526dae42-95fd-4940-d2f7-4c8588c94d94",
        "colab": {
          "base_uri": "https://localhost:8080/",
          "height": 394
        }
      },
      "source": [
        "df_copy['Country_cat'] = df['Country'].map(act)\n",
        "df_copy.head()\n"
      ],
      "execution_count": 0,
      "outputs": [
        {
          "output_type": "execute_result",
          "data": {
            "text/html": [
              "<div>\n",
              "<style scoped>\n",
              "    .dataframe tbody tr th:only-of-type {\n",
              "        vertical-align: middle;\n",
              "    }\n",
              "\n",
              "    .dataframe tbody tr th {\n",
              "        vertical-align: top;\n",
              "    }\n",
              "\n",
              "    .dataframe thead th {\n",
              "        text-align: right;\n",
              "    }\n",
              "</style>\n",
              "<table border=\"1\" class=\"dataframe\">\n",
              "  <thead>\n",
              "    <tr style=\"text-align: right;\">\n",
              "      <th></th>\n",
              "      <th>Country</th>\n",
              "      <th>Date</th>\n",
              "      <th>No. of suspected cases</th>\n",
              "      <th>No. of probable cases</th>\n",
              "      <th>No. of confirmed cases</th>\n",
              "      <th>No. of confirmed, probable and suspected cases</th>\n",
              "      <th>No. of suspected deaths</th>\n",
              "      <th>No. of probable deaths</th>\n",
              "      <th>No. of confirmed deaths</th>\n",
              "      <th>No. of confirmed, probable and suspected deaths</th>\n",
              "      <th>Country_cat</th>\n",
              "    </tr>\n",
              "  </thead>\n",
              "  <tbody>\n",
              "    <tr>\n",
              "      <th>0</th>\n",
              "      <td>Guinea</td>\n",
              "      <td>2014-08-29</td>\n",
              "      <td>25.0</td>\n",
              "      <td>141.0</td>\n",
              "      <td>482.0</td>\n",
              "      <td>648.0</td>\n",
              "      <td>2.0</td>\n",
              "      <td>141.0</td>\n",
              "      <td>287.0</td>\n",
              "      <td>430.0</td>\n",
              "      <td>1.0</td>\n",
              "    </tr>\n",
              "    <tr>\n",
              "      <th>1</th>\n",
              "      <td>Nigeria</td>\n",
              "      <td>2014-08-29</td>\n",
              "      <td>3.0</td>\n",
              "      <td>1.0</td>\n",
              "      <td>15.0</td>\n",
              "      <td>19.0</td>\n",
              "      <td>0.0</td>\n",
              "      <td>1.0</td>\n",
              "      <td>6.0</td>\n",
              "      <td>7.0</td>\n",
              "      <td>2.0</td>\n",
              "    </tr>\n",
              "    <tr>\n",
              "      <th>2</th>\n",
              "      <td>Sierra Leone</td>\n",
              "      <td>2014-08-29</td>\n",
              "      <td>54.0</td>\n",
              "      <td>37.0</td>\n",
              "      <td>935.0</td>\n",
              "      <td>1026.0</td>\n",
              "      <td>8.0</td>\n",
              "      <td>34.0</td>\n",
              "      <td>380.0</td>\n",
              "      <td>422.0</td>\n",
              "      <td>3.0</td>\n",
              "    </tr>\n",
              "    <tr>\n",
              "      <th>3</th>\n",
              "      <td>Liberia</td>\n",
              "      <td>2014-08-29</td>\n",
              "      <td>382.0</td>\n",
              "      <td>674.0</td>\n",
              "      <td>322.0</td>\n",
              "      <td>1378.0</td>\n",
              "      <td>168.0</td>\n",
              "      <td>301.0</td>\n",
              "      <td>225.0</td>\n",
              "      <td>694.0</td>\n",
              "      <td>4.0</td>\n",
              "    </tr>\n",
              "    <tr>\n",
              "      <th>4</th>\n",
              "      <td>Sierra Leone</td>\n",
              "      <td>2014-09-05</td>\n",
              "      <td>78.0</td>\n",
              "      <td>37.0</td>\n",
              "      <td>1146.0</td>\n",
              "      <td>1261.0</td>\n",
              "      <td>11.0</td>\n",
              "      <td>37.0</td>\n",
              "      <td>443.0</td>\n",
              "      <td>491.0</td>\n",
              "      <td>3.0</td>\n",
              "    </tr>\n",
              "  </tbody>\n",
              "</table>\n",
              "</div>"
            ],
            "text/plain": [
              "        Country  ... Country_cat\n",
              "0        Guinea  ...         1.0\n",
              "1       Nigeria  ...         2.0\n",
              "2  Sierra Leone  ...         3.0\n",
              "3       Liberia  ...         4.0\n",
              "4  Sierra Leone  ...         3.0\n",
              "\n",
              "[5 rows x 11 columns]"
            ]
          },
          "metadata": {
            "tags": []
          },
          "execution_count": 60
        }
      ]
    },
    {
      "cell_type": "code",
      "metadata": {
        "id": "vHKY-nq4OgH_",
        "colab_type": "code",
        "outputId": "e90bf181-8ca2-4f36-84dc-794ee1263eb9",
        "colab": {
          "base_uri": "https://localhost:8080/",
          "height": 34
        }
      },
      "source": [
        "list(df_copy['Country_cat'].unique())"
      ],
      "execution_count": 0,
      "outputs": [
        {
          "output_type": "execute_result",
          "data": {
            "text/plain": [
              "[1.0, 2.0, 3.0, 4.0, 5.0, 6.0, 7.0, 8.0, 9.0, nan]"
            ]
          },
          "metadata": {
            "tags": []
          },
          "execution_count": 61
        }
      ]
    },
    {
      "cell_type": "code",
      "metadata": {
        "id": "Sb25JiPCOupN",
        "colab_type": "code",
        "outputId": "61ab8a40-486f-4617-cda7-ba6715547aad",
        "colab": {
          "base_uri": "https://localhost:8080/",
          "height": 34
        }
      },
      "source": [
        "df_copy['No. of confirmed deaths'].mean()"
      ],
      "execution_count": 0,
      "outputs": [
        {
          "output_type": "execute_result",
          "data": {
            "text/plain": [
              "781.7758551307847"
            ]
          },
          "metadata": {
            "tags": []
          },
          "execution_count": 64
        }
      ]
    },
    {
      "cell_type": "code",
      "metadata": {
        "id": "KSNmWKQXO4W5",
        "colab_type": "code",
        "outputId": "492c4a3d-55d6-450c-9495-55e023792036",
        "colab": {
          "base_uri": "https://localhost:8080/",
          "height": 221
        }
      },
      "source": [
        "\n",
        "df_copy['No. of confirmed deaths'][df_copy['Country_cat'] == 2]"
      ],
      "execution_count": 0,
      "outputs": [
        {
          "output_type": "execute_result",
          "data": {
            "text/plain": [
              "1       6.0\n",
              "5       7.0\n",
              "13      7.0\n",
              "16      7.0\n",
              "22      7.0\n",
              "       ... \n",
              "2430    7.0\n",
              "2440    7.0\n",
              "2460    7.0\n",
              "2471    7.0\n",
              "2483    7.0\n",
              "Name: No. of confirmed deaths, Length: 255, dtype: float64"
            ]
          },
          "metadata": {
            "tags": []
          },
          "execution_count": 70
        }
      ]
    },
    {
      "cell_type": "code",
      "metadata": {
        "id": "1qsfsBhVPQsm",
        "colab_type": "code",
        "outputId": "7c5d429e-b7b8-4661-9fd8-3560af587d28",
        "colab": {
          "base_uri": "https://localhost:8080/",
          "height": 34
        }
      },
      "source": [
        "df_copy['No. of confirmed deaths'][df_copy['Country_cat'] == 2].mean()"
      ],
      "execution_count": 0,
      "outputs": [
        {
          "output_type": "execute_result",
          "data": {
            "text/plain": [
              "6.996078431372549"
            ]
          },
          "metadata": {
            "tags": []
          },
          "execution_count": 71
        }
      ]
    },
    {
      "cell_type": "code",
      "metadata": {
        "id": "Jx_zZ8mSPndm",
        "colab_type": "code",
        "outputId": "c98f64d3-2380-4b45-f9ae-9d50d20047f6",
        "colab": {
          "base_uri": "https://localhost:8080/",
          "height": 759
        }
      },
      "source": [
        "df_copy.groupby([\"Country_cat\", \"Date\", \"No. of confirmed cases\", \"No. of confirmed deaths\"]).count()"
      ],
      "execution_count": 0,
      "outputs": [
        {
          "output_type": "execute_result",
          "data": {
            "text/html": [
              "<div>\n",
              "<style scoped>\n",
              "    .dataframe tbody tr th:only-of-type {\n",
              "        vertical-align: middle;\n",
              "    }\n",
              "\n",
              "    .dataframe tbody tr th {\n",
              "        vertical-align: top;\n",
              "    }\n",
              "\n",
              "    .dataframe thead th {\n",
              "        text-align: right;\n",
              "    }\n",
              "</style>\n",
              "<table border=\"1\" class=\"dataframe\">\n",
              "  <thead>\n",
              "    <tr style=\"text-align: right;\">\n",
              "      <th></th>\n",
              "      <th></th>\n",
              "      <th></th>\n",
              "      <th></th>\n",
              "      <th>Country</th>\n",
              "      <th>No. of suspected cases</th>\n",
              "      <th>No. of probable cases</th>\n",
              "      <th>No. of confirmed, probable and suspected cases</th>\n",
              "      <th>No. of suspected deaths</th>\n",
              "      <th>No. of probable deaths</th>\n",
              "      <th>No. of confirmed, probable and suspected deaths</th>\n",
              "    </tr>\n",
              "    <tr>\n",
              "      <th>Country_cat</th>\n",
              "      <th>Date</th>\n",
              "      <th>No. of confirmed cases</th>\n",
              "      <th>No. of confirmed deaths</th>\n",
              "      <th></th>\n",
              "      <th></th>\n",
              "      <th></th>\n",
              "      <th></th>\n",
              "      <th></th>\n",
              "      <th></th>\n",
              "      <th></th>\n",
              "    </tr>\n",
              "  </thead>\n",
              "  <tbody>\n",
              "    <tr>\n",
              "      <th rowspan=\"5\" valign=\"top\">1.0</th>\n",
              "      <th>2014-08-29</th>\n",
              "      <th>482.0</th>\n",
              "      <th>287.0</th>\n",
              "      <td>1</td>\n",
              "      <td>1</td>\n",
              "      <td>1</td>\n",
              "      <td>1</td>\n",
              "      <td>1</td>\n",
              "      <td>1</td>\n",
              "      <td>1</td>\n",
              "    </tr>\n",
              "    <tr>\n",
              "      <th>2014-09-05</th>\n",
              "      <th>604.0</th>\n",
              "      <th>362.0</th>\n",
              "      <td>1</td>\n",
              "      <td>1</td>\n",
              "      <td>1</td>\n",
              "      <td>1</td>\n",
              "      <td>1</td>\n",
              "      <td>1</td>\n",
              "      <td>1</td>\n",
              "    </tr>\n",
              "    <tr>\n",
              "      <th>2014-09-08</th>\n",
              "      <th>664.0</th>\n",
              "      <th>400.0</th>\n",
              "      <td>1</td>\n",
              "      <td>1</td>\n",
              "      <td>1</td>\n",
              "      <td>1</td>\n",
              "      <td>1</td>\n",
              "      <td>1</td>\n",
              "      <td>1</td>\n",
              "    </tr>\n",
              "    <tr>\n",
              "      <th>2014-09-12</th>\n",
              "      <th>678.0</th>\n",
              "      <th>403.0</th>\n",
              "      <td>1</td>\n",
              "      <td>1</td>\n",
              "      <td>1</td>\n",
              "      <td>1</td>\n",
              "      <td>1</td>\n",
              "      <td>1</td>\n",
              "      <td>1</td>\n",
              "    </tr>\n",
              "    <tr>\n",
              "      <th>2014-09-16</th>\n",
              "      <th>743.0</th>\n",
              "      <th>429.0</th>\n",
              "      <td>1</td>\n",
              "      <td>1</td>\n",
              "      <td>1</td>\n",
              "      <td>1</td>\n",
              "      <td>1</td>\n",
              "      <td>1</td>\n",
              "      <td>1</td>\n",
              "    </tr>\n",
              "    <tr>\n",
              "      <th>...</th>\n",
              "      <th>...</th>\n",
              "      <th>...</th>\n",
              "      <th>...</th>\n",
              "      <td>...</td>\n",
              "      <td>...</td>\n",
              "      <td>...</td>\n",
              "      <td>...</td>\n",
              "      <td>...</td>\n",
              "      <td>...</td>\n",
              "      <td>...</td>\n",
              "    </tr>\n",
              "    <tr>\n",
              "      <th rowspan=\"5\" valign=\"top\">9.0</th>\n",
              "      <th>2015-12-17</th>\n",
              "      <th>1.0</th>\n",
              "      <th>782.0</th>\n",
              "      <td>1</td>\n",
              "      <td>1</td>\n",
              "      <td>1</td>\n",
              "      <td>1</td>\n",
              "      <td>0</td>\n",
              "      <td>0</td>\n",
              "      <td>1</td>\n",
              "    </tr>\n",
              "    <tr>\n",
              "      <th>2015-12-22</th>\n",
              "      <th>1.0</th>\n",
              "      <th>782.0</th>\n",
              "      <td>1</td>\n",
              "      <td>1</td>\n",
              "      <td>1</td>\n",
              "      <td>1</td>\n",
              "      <td>0</td>\n",
              "      <td>0</td>\n",
              "      <td>1</td>\n",
              "    </tr>\n",
              "    <tr>\n",
              "      <th>2015-12-23</th>\n",
              "      <th>1.0</th>\n",
              "      <th>782.0</th>\n",
              "      <td>1</td>\n",
              "      <td>1</td>\n",
              "      <td>1</td>\n",
              "      <td>1</td>\n",
              "      <td>0</td>\n",
              "      <td>0</td>\n",
              "      <td>1</td>\n",
              "    </tr>\n",
              "    <tr>\n",
              "      <th>2015-12-29</th>\n",
              "      <th>1.0</th>\n",
              "      <th>782.0</th>\n",
              "      <td>1</td>\n",
              "      <td>1</td>\n",
              "      <td>1</td>\n",
              "      <td>1</td>\n",
              "      <td>0</td>\n",
              "      <td>0</td>\n",
              "      <td>1</td>\n",
              "    </tr>\n",
              "    <tr>\n",
              "      <th>2016-03-23</th>\n",
              "      <th>1.0</th>\n",
              "      <th>782.0</th>\n",
              "      <td>1</td>\n",
              "      <td>1</td>\n",
              "      <td>1</td>\n",
              "      <td>1</td>\n",
              "      <td>0</td>\n",
              "      <td>0</td>\n",
              "      <td>1</td>\n",
              "    </tr>\n",
              "  </tbody>\n",
              "</table>\n",
              "<p>2343 rows × 7 columns</p>\n",
              "</div>"
            ],
            "text/plain": [
              "                                                                       Country  ...  No. of confirmed, probable and suspected deaths\n",
              "Country_cat Date       No. of confirmed cases No. of confirmed deaths           ...                                                 \n",
              "1.0         2014-08-29 482.0                  287.0                          1  ...                                                1\n",
              "            2014-09-05 604.0                  362.0                          1  ...                                                1\n",
              "            2014-09-08 664.0                  400.0                          1  ...                                                1\n",
              "            2014-09-12 678.0                  403.0                          1  ...                                                1\n",
              "            2014-09-16 743.0                  429.0                          1  ...                                                1\n",
              "...                                                                        ...  ...                                              ...\n",
              "9.0         2015-12-17 1.0                    782.0                          1  ...                                                1\n",
              "            2015-12-22 1.0                    782.0                          1  ...                                                1\n",
              "            2015-12-23 1.0                    782.0                          1  ...                                                1\n",
              "            2015-12-29 1.0                    782.0                          1  ...                                                1\n",
              "            2016-03-23 1.0                    782.0                          1  ...                                                1\n",
              "\n",
              "[2343 rows x 7 columns]"
            ]
          },
          "metadata": {
            "tags": []
          },
          "execution_count": 72
        }
      ]
    },
    {
      "cell_type": "code",
      "metadata": {
        "id": "vcFQuK4pQAoS",
        "colab_type": "code",
        "outputId": "d3c76eb4-d512-4e4b-eea7-af578b69bee3",
        "colab": {
          "base_uri": "https://localhost:8080/",
          "height": 450
        }
      },
      "source": [
        "df_copy.groupby([\"Country\", \"Date\"])[[\"No. of confirmed cases\", \"No. of confirmed deaths\"]].count()"
      ],
      "execution_count": 0,
      "outputs": [
        {
          "output_type": "execute_result",
          "data": {
            "text/html": [
              "<div>\n",
              "<style scoped>\n",
              "    .dataframe tbody tr th:only-of-type {\n",
              "        vertical-align: middle;\n",
              "    }\n",
              "\n",
              "    .dataframe tbody tr th {\n",
              "        vertical-align: top;\n",
              "    }\n",
              "\n",
              "    .dataframe thead th {\n",
              "        text-align: right;\n",
              "    }\n",
              "</style>\n",
              "<table border=\"1\" class=\"dataframe\">\n",
              "  <thead>\n",
              "    <tr style=\"text-align: right;\">\n",
              "      <th></th>\n",
              "      <th></th>\n",
              "      <th>No. of confirmed cases</th>\n",
              "      <th>No. of confirmed deaths</th>\n",
              "    </tr>\n",
              "    <tr>\n",
              "      <th>Country</th>\n",
              "      <th>Date</th>\n",
              "      <th></th>\n",
              "      <th></th>\n",
              "    </tr>\n",
              "  </thead>\n",
              "  <tbody>\n",
              "    <tr>\n",
              "      <th rowspan=\"5\" valign=\"top\">Guinea</th>\n",
              "      <th>2014-08-29</th>\n",
              "      <td>1</td>\n",
              "      <td>1</td>\n",
              "    </tr>\n",
              "    <tr>\n",
              "      <th>2014-09-05</th>\n",
              "      <td>1</td>\n",
              "      <td>1</td>\n",
              "    </tr>\n",
              "    <tr>\n",
              "      <th>2014-09-08</th>\n",
              "      <td>1</td>\n",
              "      <td>1</td>\n",
              "    </tr>\n",
              "    <tr>\n",
              "      <th>2014-09-12</th>\n",
              "      <td>1</td>\n",
              "      <td>1</td>\n",
              "    </tr>\n",
              "    <tr>\n",
              "      <th>2014-09-16</th>\n",
              "      <td>1</td>\n",
              "      <td>1</td>\n",
              "    </tr>\n",
              "    <tr>\n",
              "      <th>...</th>\n",
              "      <th>...</th>\n",
              "      <td>...</td>\n",
              "      <td>...</td>\n",
              "    </tr>\n",
              "    <tr>\n",
              "      <th rowspan=\"5\" valign=\"top\">United States of America</th>\n",
              "      <th>2015-12-17</th>\n",
              "      <td>1</td>\n",
              "      <td>1</td>\n",
              "    </tr>\n",
              "    <tr>\n",
              "      <th>2015-12-22</th>\n",
              "      <td>1</td>\n",
              "      <td>1</td>\n",
              "    </tr>\n",
              "    <tr>\n",
              "      <th>2015-12-23</th>\n",
              "      <td>1</td>\n",
              "      <td>1</td>\n",
              "    </tr>\n",
              "    <tr>\n",
              "      <th>2015-12-29</th>\n",
              "      <td>1</td>\n",
              "      <td>1</td>\n",
              "    </tr>\n",
              "    <tr>\n",
              "      <th>2016-03-23</th>\n",
              "      <td>1</td>\n",
              "      <td>1</td>\n",
              "    </tr>\n",
              "  </tbody>\n",
              "</table>\n",
              "<p>2379 rows × 2 columns</p>\n",
              "</div>"
            ],
            "text/plain": [
              "                                     No. of confirmed cases  No. of confirmed deaths\n",
              "Country                  Date                                                       \n",
              "Guinea                   2014-08-29                       1                        1\n",
              "                         2014-09-05                       1                        1\n",
              "                         2014-09-08                       1                        1\n",
              "                         2014-09-12                       1                        1\n",
              "                         2014-09-16                       1                        1\n",
              "...                                                     ...                      ...\n",
              "United States of America 2015-12-17                       1                        1\n",
              "                         2015-12-22                       1                        1\n",
              "                         2015-12-23                       1                        1\n",
              "                         2015-12-29                       1                        1\n",
              "                         2016-03-23                       1                        1\n",
              "\n",
              "[2379 rows x 2 columns]"
            ]
          },
          "metadata": {
            "tags": []
          },
          "execution_count": 73
        }
      ]
    },
    {
      "cell_type": "code",
      "metadata": {
        "id": "bc3vmWcHQSQe",
        "colab_type": "code",
        "outputId": "182f585b-fd06-4ea9-a937-c3d4492d9b22",
        "colab": {
          "base_uri": "https://localhost:8080/",
          "height": 221
        }
      },
      "source": [
        "df_copy.Country"
      ],
      "execution_count": 0,
      "outputs": [
        {
          "output_type": "execute_result",
          "data": {
            "text/plain": [
              "0                         Guinea\n",
              "1                        Nigeria\n",
              "2                   Sierra Leone\n",
              "3                        Liberia\n",
              "4                   Sierra Leone\n",
              "                  ...           \n",
              "2480                     Liberia\n",
              "2481                       Italy\n",
              "2482                     Liberia\n",
              "2483                     Nigeria\n",
              "2484    United States of America\n",
              "Name: Country, Length: 2485, dtype: object"
            ]
          },
          "metadata": {
            "tags": []
          },
          "execution_count": 75
        }
      ]
    },
    {
      "cell_type": "code",
      "metadata": {
        "id": "I7fXGzMYQbFS",
        "colab_type": "code",
        "outputId": "b453610c-d14c-4243-a0d8-1ced5f584851",
        "colab": {
          "base_uri": "https://localhost:8080/",
          "height": 428
        }
      },
      "source": [
        "df_sample = df.sample(frac=0.05, random_state=1)\n",
        "df_sample.head()"
      ],
      "execution_count": 0,
      "outputs": [
        {
          "output_type": "execute_result",
          "data": {
            "text/html": [
              "<div>\n",
              "<style scoped>\n",
              "    .dataframe tbody tr th:only-of-type {\n",
              "        vertical-align: middle;\n",
              "    }\n",
              "\n",
              "    .dataframe tbody tr th {\n",
              "        vertical-align: top;\n",
              "    }\n",
              "\n",
              "    .dataframe thead th {\n",
              "        text-align: right;\n",
              "    }\n",
              "</style>\n",
              "<table border=\"1\" class=\"dataframe\">\n",
              "  <thead>\n",
              "    <tr style=\"text-align: right;\">\n",
              "      <th></th>\n",
              "      <th>Country</th>\n",
              "      <th>Date</th>\n",
              "      <th>No. of suspected cases</th>\n",
              "      <th>No. of probable cases</th>\n",
              "      <th>No. of confirmed cases</th>\n",
              "      <th>No. of confirmed, probable and suspected cases</th>\n",
              "      <th>No. of suspected deaths</th>\n",
              "      <th>No. of probable deaths</th>\n",
              "      <th>No. of confirmed deaths</th>\n",
              "      <th>No. of confirmed, probable and suspected deaths</th>\n",
              "    </tr>\n",
              "  </thead>\n",
              "  <tbody>\n",
              "    <tr>\n",
              "      <th>664</th>\n",
              "      <td>Liberia</td>\n",
              "      <td>2015-03-13</td>\n",
              "      <td>4453.0</td>\n",
              "      <td>1879.0</td>\n",
              "      <td>3150.0</td>\n",
              "      <td>9482.0</td>\n",
              "      <td>NaN</td>\n",
              "      <td>NaN</td>\n",
              "      <td>NaN</td>\n",
              "      <td>4241.0</td>\n",
              "    </tr>\n",
              "    <tr>\n",
              "      <th>608</th>\n",
              "      <td>Senegal</td>\n",
              "      <td>2015-03-02</td>\n",
              "      <td>0.0</td>\n",
              "      <td>0.0</td>\n",
              "      <td>1.0</td>\n",
              "      <td>1.0</td>\n",
              "      <td>0.0</td>\n",
              "      <td>0.0</td>\n",
              "      <td>0.0</td>\n",
              "      <td>0.0</td>\n",
              "    </tr>\n",
              "    <tr>\n",
              "      <th>304</th>\n",
              "      <td>Sierra Leone</td>\n",
              "      <td>2015-01-08</td>\n",
              "      <td>1984.0</td>\n",
              "      <td>287.0</td>\n",
              "      <td>7759.0</td>\n",
              "      <td>10030.0</td>\n",
              "      <td>158.0</td>\n",
              "      <td>208.0</td>\n",
              "      <td>2611.0</td>\n",
              "      <td>2977.0</td>\n",
              "    </tr>\n",
              "    <tr>\n",
              "      <th>2205</th>\n",
              "      <td>Mali</td>\n",
              "      <td>2015-10-29</td>\n",
              "      <td>0.0</td>\n",
              "      <td>1.0</td>\n",
              "      <td>7.0</td>\n",
              "      <td>8.0</td>\n",
              "      <td>NaN</td>\n",
              "      <td>NaN</td>\n",
              "      <td>NaN</td>\n",
              "      <td>6.0</td>\n",
              "    </tr>\n",
              "    <tr>\n",
              "      <th>587</th>\n",
              "      <td>United States of America</td>\n",
              "      <td>2015-02-26</td>\n",
              "      <td>0.0</td>\n",
              "      <td>0.0</td>\n",
              "      <td>4.0</td>\n",
              "      <td>4.0</td>\n",
              "      <td>0.0</td>\n",
              "      <td>0.0</td>\n",
              "      <td>1.0</td>\n",
              "      <td>1.0</td>\n",
              "    </tr>\n",
              "  </tbody>\n",
              "</table>\n",
              "</div>"
            ],
            "text/plain": [
              "                       Country  ... No. of confirmed, probable and suspected deaths\n",
              "664                    Liberia  ...                                          4241.0\n",
              "608                    Senegal  ...                                             0.0\n",
              "304               Sierra Leone  ...                                          2977.0\n",
              "2205                      Mali  ...                                             6.0\n",
              "587   United States of America  ...                                             1.0\n",
              "\n",
              "[5 rows x 10 columns]"
            ]
          },
          "metadata": {
            "tags": []
          },
          "execution_count": 76
        }
      ]
    },
    {
      "cell_type": "code",
      "metadata": {
        "id": "nEJVP-NVQg1z",
        "colab_type": "code",
        "outputId": "76be1d7d-cf87-47c9-9977-eabbf2237c64",
        "colab": {
          "base_uri": "https://localhost:8080/",
          "height": 481
        }
      },
      "source": [
        "df_sample.groupby([\"Country\", \"Date\"])[[\"No. of confirmed cases\", \"No. of confirmed deaths\"]].agg([np.sum, np.mean,\n",
        "                                                              np.count_nonzero])"
      ],
      "execution_count": 0,
      "outputs": [
        {
          "output_type": "execute_result",
          "data": {
            "text/html": [
              "<div>\n",
              "<style scoped>\n",
              "    .dataframe tbody tr th:only-of-type {\n",
              "        vertical-align: middle;\n",
              "    }\n",
              "\n",
              "    .dataframe tbody tr th {\n",
              "        vertical-align: top;\n",
              "    }\n",
              "\n",
              "    .dataframe thead tr th {\n",
              "        text-align: left;\n",
              "    }\n",
              "\n",
              "    .dataframe thead tr:last-of-type th {\n",
              "        text-align: right;\n",
              "    }\n",
              "</style>\n",
              "<table border=\"1\" class=\"dataframe\">\n",
              "  <thead>\n",
              "    <tr>\n",
              "      <th></th>\n",
              "      <th></th>\n",
              "      <th colspan=\"3\" halign=\"left\">No. of confirmed cases</th>\n",
              "      <th colspan=\"3\" halign=\"left\">No. of confirmed deaths</th>\n",
              "    </tr>\n",
              "    <tr>\n",
              "      <th></th>\n",
              "      <th></th>\n",
              "      <th>sum</th>\n",
              "      <th>mean</th>\n",
              "      <th>count_nonzero</th>\n",
              "      <th>sum</th>\n",
              "      <th>mean</th>\n",
              "      <th>count_nonzero</th>\n",
              "    </tr>\n",
              "    <tr>\n",
              "      <th>Country</th>\n",
              "      <th>Date</th>\n",
              "      <th></th>\n",
              "      <th></th>\n",
              "      <th></th>\n",
              "      <th></th>\n",
              "      <th></th>\n",
              "      <th></th>\n",
              "    </tr>\n",
              "  </thead>\n",
              "  <tbody>\n",
              "    <tr>\n",
              "      <th rowspan=\"5\" valign=\"top\">Guinea</th>\n",
              "      <th>2015-01-26</th>\n",
              "      <td>2559.0</td>\n",
              "      <td>2559.0</td>\n",
              "      <td>1.0</td>\n",
              "      <td>1574.0</td>\n",
              "      <td>1574.0</td>\n",
              "      <td>1.0</td>\n",
              "    </tr>\n",
              "    <tr>\n",
              "      <th>2015-02-05</th>\n",
              "      <td>2621.0</td>\n",
              "      <td>2621.0</td>\n",
              "      <td>1.0</td>\n",
              "      <td>1600.0</td>\n",
              "      <td>1600.0</td>\n",
              "      <td>1.0</td>\n",
              "    </tr>\n",
              "    <tr>\n",
              "      <th>2015-02-11</th>\n",
              "      <td>2674.0</td>\n",
              "      <td>2674.0</td>\n",
              "      <td>1.0</td>\n",
              "      <td>1643.0</td>\n",
              "      <td>1643.0</td>\n",
              "      <td>1.0</td>\n",
              "    </tr>\n",
              "    <tr>\n",
              "      <th>2015-02-25</th>\n",
              "      <td>2762.0</td>\n",
              "      <td>2762.0</td>\n",
              "      <td>1.0</td>\n",
              "      <td>1704.0</td>\n",
              "      <td>1704.0</td>\n",
              "      <td>1.0</td>\n",
              "    </tr>\n",
              "    <tr>\n",
              "      <th>2015-03-06</th>\n",
              "      <td>2840.0</td>\n",
              "      <td>2840.0</td>\n",
              "      <td>1.0</td>\n",
              "      <td>1755.0</td>\n",
              "      <td>1755.0</td>\n",
              "      <td>1.0</td>\n",
              "    </tr>\n",
              "    <tr>\n",
              "      <th>...</th>\n",
              "      <th>...</th>\n",
              "      <td>...</td>\n",
              "      <td>...</td>\n",
              "      <td>...</td>\n",
              "      <td>...</td>\n",
              "      <td>...</td>\n",
              "      <td>...</td>\n",
              "    </tr>\n",
              "    <tr>\n",
              "      <th rowspan=\"5\" valign=\"top\">United States of America</th>\n",
              "      <th>2015-06-16</th>\n",
              "      <td>4.0</td>\n",
              "      <td>4.0</td>\n",
              "      <td>1.0</td>\n",
              "      <td>1.0</td>\n",
              "      <td>1.0</td>\n",
              "      <td>1.0</td>\n",
              "    </tr>\n",
              "    <tr>\n",
              "      <th>2015-06-22</th>\n",
              "      <td>4.0</td>\n",
              "      <td>4.0</td>\n",
              "      <td>1.0</td>\n",
              "      <td>1.0</td>\n",
              "      <td>1.0</td>\n",
              "      <td>1.0</td>\n",
              "    </tr>\n",
              "    <tr>\n",
              "      <th>2015-06-30</th>\n",
              "      <td>4.0</td>\n",
              "      <td>4.0</td>\n",
              "      <td>1.0</td>\n",
              "      <td>1.0</td>\n",
              "      <td>1.0</td>\n",
              "      <td>1.0</td>\n",
              "    </tr>\n",
              "    <tr>\n",
              "      <th>2015-07-10</th>\n",
              "      <td>4.0</td>\n",
              "      <td>4.0</td>\n",
              "      <td>1.0</td>\n",
              "      <td>1.0</td>\n",
              "      <td>1.0</td>\n",
              "      <td>1.0</td>\n",
              "    </tr>\n",
              "    <tr>\n",
              "      <th>2015-08-27</th>\n",
              "      <td>4.0</td>\n",
              "      <td>4.0</td>\n",
              "      <td>1.0</td>\n",
              "      <td>1.0</td>\n",
              "      <td>1.0</td>\n",
              "      <td>1.0</td>\n",
              "    </tr>\n",
              "  </tbody>\n",
              "</table>\n",
              "<p>124 rows × 6 columns</p>\n",
              "</div>"
            ],
            "text/plain": [
              "                                    No. of confirmed cases  ... No. of confirmed deaths\n",
              "                                                       sum  ...           count_nonzero\n",
              "Country                  Date                               ...                        \n",
              "Guinea                   2015-01-26                 2559.0  ...                     1.0\n",
              "                         2015-02-05                 2621.0  ...                     1.0\n",
              "                         2015-02-11                 2674.0  ...                     1.0\n",
              "                         2015-02-25                 2762.0  ...                     1.0\n",
              "                         2015-03-06                 2840.0  ...                     1.0\n",
              "...                                                    ...  ...                     ...\n",
              "United States of America 2015-06-16                    4.0  ...                     1.0\n",
              "                         2015-06-22                    4.0  ...                     1.0\n",
              "                         2015-06-30                    4.0  ...                     1.0\n",
              "                         2015-07-10                    4.0  ...                     1.0\n",
              "                         2015-08-27                    4.0  ...                     1.0\n",
              "\n",
              "[124 rows x 6 columns]"
            ]
          },
          "metadata": {
            "tags": []
          },
          "execution_count": 77
        }
      ]
    },
    {
      "cell_type": "code",
      "metadata": {
        "id": "u9qhEuk8Qsp5",
        "colab_type": "code",
        "outputId": "7e810491-a11d-492f-90a2-37bd9b5623e4",
        "colab": {
          "base_uri": "https://localhost:8080/",
          "height": 450
        }
      },
      "source": [
        "df_sample.groupby([\"Country\", \"Date\"]).agg({'No. of confirmed cases':np.mean,'No. of confirmed deaths':np.max})"
      ],
      "execution_count": 0,
      "outputs": [
        {
          "output_type": "execute_result",
          "data": {
            "text/html": [
              "<div>\n",
              "<style scoped>\n",
              "    .dataframe tbody tr th:only-of-type {\n",
              "        vertical-align: middle;\n",
              "    }\n",
              "\n",
              "    .dataframe tbody tr th {\n",
              "        vertical-align: top;\n",
              "    }\n",
              "\n",
              "    .dataframe thead th {\n",
              "        text-align: right;\n",
              "    }\n",
              "</style>\n",
              "<table border=\"1\" class=\"dataframe\">\n",
              "  <thead>\n",
              "    <tr style=\"text-align: right;\">\n",
              "      <th></th>\n",
              "      <th></th>\n",
              "      <th>No. of confirmed cases</th>\n",
              "      <th>No. of confirmed deaths</th>\n",
              "    </tr>\n",
              "    <tr>\n",
              "      <th>Country</th>\n",
              "      <th>Date</th>\n",
              "      <th></th>\n",
              "      <th></th>\n",
              "    </tr>\n",
              "  </thead>\n",
              "  <tbody>\n",
              "    <tr>\n",
              "      <th rowspan=\"5\" valign=\"top\">Guinea</th>\n",
              "      <th>2015-01-26</th>\n",
              "      <td>2559.0</td>\n",
              "      <td>1574.0</td>\n",
              "    </tr>\n",
              "    <tr>\n",
              "      <th>2015-02-05</th>\n",
              "      <td>2621.0</td>\n",
              "      <td>1600.0</td>\n",
              "    </tr>\n",
              "    <tr>\n",
              "      <th>2015-02-11</th>\n",
              "      <td>2674.0</td>\n",
              "      <td>1643.0</td>\n",
              "    </tr>\n",
              "    <tr>\n",
              "      <th>2015-02-25</th>\n",
              "      <td>2762.0</td>\n",
              "      <td>1704.0</td>\n",
              "    </tr>\n",
              "    <tr>\n",
              "      <th>2015-03-06</th>\n",
              "      <td>2840.0</td>\n",
              "      <td>1755.0</td>\n",
              "    </tr>\n",
              "    <tr>\n",
              "      <th>...</th>\n",
              "      <th>...</th>\n",
              "      <td>...</td>\n",
              "      <td>...</td>\n",
              "    </tr>\n",
              "    <tr>\n",
              "      <th rowspan=\"5\" valign=\"top\">United States of America</th>\n",
              "      <th>2015-06-16</th>\n",
              "      <td>4.0</td>\n",
              "      <td>1.0</td>\n",
              "    </tr>\n",
              "    <tr>\n",
              "      <th>2015-06-22</th>\n",
              "      <td>4.0</td>\n",
              "      <td>1.0</td>\n",
              "    </tr>\n",
              "    <tr>\n",
              "      <th>2015-06-30</th>\n",
              "      <td>4.0</td>\n",
              "      <td>1.0</td>\n",
              "    </tr>\n",
              "    <tr>\n",
              "      <th>2015-07-10</th>\n",
              "      <td>4.0</td>\n",
              "      <td>1.0</td>\n",
              "    </tr>\n",
              "    <tr>\n",
              "      <th>2015-08-27</th>\n",
              "      <td>4.0</td>\n",
              "      <td>1.0</td>\n",
              "    </tr>\n",
              "  </tbody>\n",
              "</table>\n",
              "<p>124 rows × 2 columns</p>\n",
              "</div>"
            ],
            "text/plain": [
              "                                     No. of confirmed cases  No. of confirmed deaths\n",
              "Country                  Date                                                       \n",
              "Guinea                   2015-01-26                  2559.0                   1574.0\n",
              "                         2015-02-05                  2621.0                   1600.0\n",
              "                         2015-02-11                  2674.0                   1643.0\n",
              "                         2015-02-25                  2762.0                   1704.0\n",
              "                         2015-03-06                  2840.0                   1755.0\n",
              "...                                                     ...                      ...\n",
              "United States of America 2015-06-16                     4.0                      1.0\n",
              "                         2015-06-22                     4.0                      1.0\n",
              "                         2015-06-30                     4.0                      1.0\n",
              "                         2015-07-10                     4.0                      1.0\n",
              "                         2015-08-27                     4.0                      1.0\n",
              "\n",
              "[124 rows x 2 columns]"
            ]
          },
          "metadata": {
            "tags": []
          },
          "execution_count": 78
        }
      ]
    },
    {
      "cell_type": "code",
      "metadata": {
        "id": "J56AewZUQ5Zk",
        "colab_type": "code",
        "outputId": "3290ae11-db0b-4fcf-8a81-ed691f793052",
        "colab": {
          "base_uri": "https://localhost:8080/",
          "height": 266
        }
      },
      "source": [
        "\n",
        "%matplotlib inline\n",
        "import matplotlib.pyplot as plt\n",
        "plt.style.use('seaborn-white')\n",
        "\n",
        "ax1 = plt.axes()  # standard axes\n",
        "ax2 = plt.axes([0.65, 0.65, 0.2, 0.2])"
      ],
      "execution_count": 0,
      "outputs": [
        {
          "output_type": "display_data",
          "data": {
            "image/png": "[encoded data removed]",
            "text/plain": [
              "<Figure size 432x288 with 2 Axes>"
            ]
          },
          "metadata": {
            "tags": []
          }
        }
      ]
    },
    {
      "cell_type": "code",
      "metadata": {
        "id": "QbPj3NCSQ80Z",
        "colab_type": "code",
        "outputId": "325c57e3-b52e-4b8e-9b04-789e7b4794fe",
        "colab": {
          "base_uri": "https://localhost:8080/",
          "height": 292
        }
      },
      "source": [
        "fig = plt.figure()\n",
        "ax1 = fig.add_axes([0.1, 0.5, 0.8, 0.4],\n",
        "                   xticklabels=[], ylim=(-1.2, 1.2))\n",
        "ax2 = fig.add_axes([0.1, 0.1, 0.8, 0.4],\n",
        "                   ylim=(-1.2, 1.2))\n",
        "\n",
        "x = np.linspace(0, 10)\n",
        "ax1.plot(np.sin(x))\n",
        "ax2.plot(np.cos(x))"
      ],
      "execution_count": 0,
      "outputs": [
        {
          "output_type": "execute_result",
          "data": {
            "text/plain": [
              "[<matplotlib.lines.Line2D at 0x7f01d772f6d8>]"
            ]
          },
          "metadata": {
            "tags": []
          },
          "execution_count": 80
        },
        {
          "output_type": "display_data",
          "data": {
            "image/png": "[encoded data removed]",
            "text/plain": [
              "<Figure size 432x288 with 2 Axes>"
            ]
          },
          "metadata": {
            "tags": []
          }
        }
      ]
    },
    {
      "cell_type": "code",
      "metadata": {
        "id": "hcr0X8HZRAW-",
        "colab_type": "code",
        "outputId": "e6ff784f-132d-4269-9787-aab05a14cad3",
        "colab": {
          "base_uri": "https://localhost:8080/",
          "height": 266
        }
      },
      "source": [
        "for i in range(1, 7):\n",
        "    plt.subplot(2, 3, i)\n",
        "    plt.text(0.5, 0.5, str((2, 3, i)),\n",
        "             fontsize=18, ha='center')"
      ],
      "execution_count": 0,
      "outputs": [
        {
          "output_type": "display_data",
          "data": {
            "image/png": "[encoded data removed]",
            "text/plain": [
              "<Figure size 432x288 with 6 Axes>"
            ]
          },
          "metadata": {
            "tags": []
          }
        }
      ]
    },
    {
      "cell_type": "code",
      "metadata": {
        "id": "vt1y_2PjREDQ",
        "colab_type": "code",
        "outputId": "29a64000-1528-48fb-d8be-7c4e75047fa9",
        "colab": {
          "base_uri": "https://localhost:8080/",
          "height": 266
        }
      },
      "source": [
        "fig = plt.figure()\n",
        "fig.subplots_adjust(hspace=0.4, wspace=0.4)\n",
        "for i in range(1, 7):\n",
        "    ax = fig.add_subplot(2, 3, i)\n",
        "    ax.text(0.5, 0.5, str((2, 3, i)),\n",
        "           fontsize=18, ha='center')"
      ],
      "execution_count": 0,
      "outputs": [
        {
          "output_type": "display_data",
          "data": {
            "image/png": "[encoded data removed]",
            "text/plain": [
              "<Figure size 432x288 with 6 Axes>"
            ]
          },
          "metadata": {
            "tags": []
          }
        }
      ]
    },
    {
      "cell_type": "code",
      "metadata": {
        "id": "28LaB7oZRGLN",
        "colab_type": "code",
        "outputId": "c8ace96f-06a9-4d2d-9cf9-fd371f0a0b31",
        "colab": {
          "base_uri": "https://localhost:8080/",
          "height": 266
        }
      },
      "source": [
        "fig, ax = plt.subplots(2, 3, sharex='col', sharey='row')"
      ],
      "execution_count": 0,
      "outputs": [
        {
          "output_type": "display_data",
          "data": {
            "image/png": "[encoded data removed]",
            "text/plain": [
              "<Figure size 432x288 with 6 Axes>"
            ]
          },
          "metadata": {
            "tags": []
          }
        }
      ]
    },
    {
      "cell_type": "code",
      "metadata": {
        "id": "n1uNp1b-RJf3",
        "colab_type": "code",
        "outputId": "cb3996ef-5e54-494a-b5d6-f4eb7134ae1f",
        "colab": {
          "base_uri": "https://localhost:8080/",
          "height": 266
        }
      },
      "source": [
        "for i in range(2):\n",
        "    for j in range(3):\n",
        "        ax[i, j].text(0.5, 0.5, str((i, j)),\n",
        "                      fontsize=18, ha='center')\n",
        "fig"
      ],
      "execution_count": 0,
      "outputs": [
        {
          "output_type": "execute_result",
          "data": {
            "image/png": "[encoded data removed]",
            "text/plain": [
              "<Figure size 432x288 with 6 Axes>"
            ]
          },
          "metadata": {
            "tags": []
          },
          "execution_count": 84
        }
      ]
    },
    {
      "cell_type": "code",
      "metadata": {
        "id": "fJl_hQF3RNCF",
        "colab_type": "code",
        "outputId": "07d56b08-66b0-423e-99e5-12ade78b5205",
        "colab": {
          "base_uri": "https://localhost:8080/",
          "height": 371
        }
      },
      "source": [
        "mean = [0, 0]\n",
        "cov = [[1, 1], [1, 2]]\n",
        "x, y = np.random.multivariate_normal(mean, cov, 3000).T\n",
        "\n",
        "# Set up the axes with gridspec\n",
        "fig = plt.figure(figsize=(6, 6))\n",
        "grid = plt.GridSpec(4, 4, hspace=0.2, wspace=0.2)\n",
        "main_ax = fig.add_subplot(grid[:-1, 1:])\n",
        "y_hist = fig.add_subplot(grid[:-1, 0], xticklabels=[], sharey=main_ax)\n",
        "x_hist = fig.add_subplot(grid[-1, 1:], yticklabels=[], sharex=main_ax)\n",
        "\n",
        "# scatter points on the main axes\n",
        "main_ax.plot(x, y, 'ok', markersize=3, alpha=0.2)\n",
        "\n",
        "# histogram on the attached axes\n",
        "x_hist.hist(x, 40, histtype='stepfilled',\n",
        "            orientation='vertical', color='gray')\n",
        "x_hist.invert_yaxis()\n",
        "\n",
        "y_hist.hist(y, 40, histtype='stepfilled',\n",
        "            orientation='horizontal', color='gray')\n",
        "y_hist.invert_xaxis()"
      ],
      "execution_count": 0,
      "outputs": [
        {
          "output_type": "display_data",
          "data": {
            "image/png": "[encoded data removed]",
            "text/plain": [
              "<Figure size 432x432 with 3 Axes>"
            ]
          },
          "metadata": {
            "tags": []
          }
        }
      ]
    },
    {
      "cell_type": "code",
      "metadata": {
        "id": "sEjnIKIbRQUS",
        "colab_type": "code",
        "outputId": "3de8db2a-4d45-480d-b9f9-e176d0e3bb03",
        "colab": {
          "base_uri": "https://localhost:8080/",
          "height": 293
        }
      },
      "source": [
        "df_sample['No. of confirmed deaths'] = df_sample['No. of confirmed deaths'].astype('float64')\n",
        "\n",
        "df_sample.plot(kind='scatter',x='No. of confirmed cases',y='No. of confirmed deaths')"
      ],
      "execution_count": 0,
      "outputs": [
        {
          "output_type": "execute_result",
          "data": {
            "text/plain": [
              "<matplotlib.axes._subplots.AxesSubplot at 0x7f01d72805f8>"
            ]
          },
          "metadata": {
            "tags": []
          },
          "execution_count": 90
        },
        {
          "output_type": "display_data",
          "data": {
            "image/png": "[encoded data removed]",
            "text/plain": [
              "<Figure size 432x288 with 1 Axes>"
            ]
          },
          "metadata": {
            "tags": []
          }
        }
      ]
    },
    {
      "cell_type": "code",
      "metadata": {
        "id": "bxnwOoK-SJ4E",
        "colab_type": "code",
        "outputId": "a853b493-bd4c-445d-b504-a7dcc632fa8c",
        "colab": {
          "base_uri": "https://localhost:8080/",
          "height": 308
        }
      },
      "source": [
        "plt.hist(df_sample['No. of confirmed cases'])\n",
        "plt.xlabel('No. of confirmed cases')\n",
        "plt.ylabel('Frequency')\n",
        "plt.title('Frequency of No. of confirmed cases')"
      ],
      "execution_count": 0,
      "outputs": [
        {
          "output_type": "execute_result",
          "data": {
            "text/plain": [
              "Text(0.5, 1.0, 'Frequency of No. of confirmed cases')"
            ]
          },
          "metadata": {
            "tags": []
          },
          "execution_count": 93
        },
        {
          "output_type": "display_data",
          "data": {
            "image/png": "[encoded data removed]",
            "text/plain": [
              "<Figure size 432x288 with 1 Axes>"
            ]
          },
          "metadata": {
            "tags": []
          }
        }
      ]
    },
    {
      "cell_type": "code",
      "metadata": {
        "id": "NzSaQS2USm1f",
        "colab_type": "code",
        "outputId": "674c9a88-dec9-45b2-d161-3d61d31af34a",
        "colab": {
          "base_uri": "https://localhost:8080/",
          "height": 396
        }
      },
      "source": [
        "plt.hist(df_sample['No. of confirmed deaths'])\n",
        "plt.xlabel('No. of confirmed deaths')\n",
        "plt.ylabel('Frequency')\n",
        "plt.title('Frequency of No. of confirmed deaths')"
      ],
      "execution_count": 0,
      "outputs": [
        {
          "output_type": "stream",
          "text": [
            "/usr/local/lib/python3.6/dist-packages/numpy/lib/histograms.py:839: RuntimeWarning: invalid value encountered in greater_equal\n",
            "  keep = (tmp_a >= first_edge)\n",
            "/usr/local/lib/python3.6/dist-packages/numpy/lib/histograms.py:840: RuntimeWarning: invalid value encountered in less_equal\n",
            "  keep &= (tmp_a <= last_edge)\n"
          ],
          "name": "stderr"
        },
        {
          "output_type": "execute_result",
          "data": {
            "text/plain": [
              "Text(0.5, 1.0, 'Frequency of No. of confirmed deaths')"
            ]
          },
          "metadata": {
            "tags": []
          },
          "execution_count": 94
        },
        {
          "output_type": "display_data",
          "data": {
            "image/png": "[encoded data removed]",
            "text/plain": [
              "<Figure size 432x288 with 1 Axes>"
            ]
          },
          "metadata": {
            "tags": []
          }
        }
      ]
    },
    {
      "cell_type": "code",
      "metadata": {
        "id": "zjrOPasVSuT9",
        "colab_type": "code",
        "outputId": "81df2379-d597-4d63-a5d1-091a3e0e6e69",
        "colab": {
          "base_uri": "https://localhost:8080/",
          "height": 294
        }
      },
      "source": [
        "plt.boxplot(df_sample['No. of confirmed cases'], showmeans=True, meanline=True)\n",
        "plt.ylabel('No. of confirmed cases count')\n",
        "plt.title('Box Plot of Cases count')"
      ],
      "execution_count": 0,
      "outputs": [
        {
          "output_type": "execute_result",
          "data": {
            "text/plain": [
              "Text(0.5, 1.0, 'Box Plot of Cases count')"
            ]
          },
          "metadata": {
            "tags": []
          },
          "execution_count": 97
        },
        {
          "output_type": "display_data",
          "data": {
            "image/png": "[encoded data removed]",
            "text/plain": [
              "<Figure size 432x288 with 1 Axes>"
            ]
          },
          "metadata": {
            "tags": []
          }
        }
      ]
    }
  ]
}